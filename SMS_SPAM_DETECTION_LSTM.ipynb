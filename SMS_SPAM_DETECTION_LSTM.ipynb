{
  "cells": [
    {
      "cell_type": "markdown",
      "metadata": {
        "id": "view-in-github",
        "colab_type": "text"
      },
      "source": [
        "<a href=\"https://colab.research.google.com/github/AndrewstheBuilder/sms_spam_detection/blob/main/SMS_SPAM_DETECTION_LSTM.ipynb\" target=\"_parent\"><img src=\"https://colab.research.google.com/assets/colab-badge.svg\" alt=\"Open In Colab\"/></a>"
      ]
    },
    {
      "cell_type": "markdown",
      "source": [],
      "metadata": {
        "id": "uk9XGUmlfCXt"
      }
    },
    {
      "cell_type": "code",
      "source": [
        "from google.colab import auth\n",
        "auth.authenticate_user()"
      ],
      "metadata": {
        "id": "7MlPZRDRd2pJ"
      },
      "execution_count": 1,
      "outputs": []
    },
    {
      "cell_type": "code",
      "execution_count": 2,
      "metadata": {
        "colab": {
          "base_uri": "https://localhost:8080/"
        },
        "id": "6SK4Hu2EdKlJ",
        "outputId": "faabef31-cfc0-4aeb-c0ef-1b65336faabd"
      },
      "outputs": [
        {
          "output_type": "stream",
          "name": "stdout",
          "text": [
            "Mounted at /content/drive\n"
          ]
        }
      ],
      "source": [
        "from google.colab import drive\n",
        "drive.mount('/content/drive')"
      ]
    },
    {
      "cell_type": "code",
      "source": [
        "from google.colab import files\n",
        "\n",
        "uploaded = files.upload()"
      ],
      "metadata": {
        "colab": {
          "base_uri": "https://localhost:8080/",
          "height": 74
        },
        "id": "AGID_QdNvj7J",
        "outputId": "fd15cbb7-a380-496e-e7c2-45acbbcdaebc"
      },
      "execution_count": 30,
      "outputs": [
        {
          "output_type": "display_data",
          "data": {
            "text/plain": [
              "<IPython.core.display.HTML object>"
            ],
            "text/html": [
              "\n",
              "     <input type=\"file\" id=\"files-92b55036-2a9f-464b-af08-518543f6f2ca\" name=\"files[]\" multiple disabled\n",
              "        style=\"border:none\" />\n",
              "     <output id=\"result-92b55036-2a9f-464b-af08-518543f6f2ca\">\n",
              "      Upload widget is only available when the cell has been executed in the\n",
              "      current browser session. Please rerun this cell to enable.\n",
              "      </output>\n",
              "      <script>// Copyright 2017 Google LLC\n",
              "//\n",
              "// Licensed under the Apache License, Version 2.0 (the \"License\");\n",
              "// you may not use this file except in compliance with the License.\n",
              "// You may obtain a copy of the License at\n",
              "//\n",
              "//      http://www.apache.org/licenses/LICENSE-2.0\n",
              "//\n",
              "// Unless required by applicable law or agreed to in writing, software\n",
              "// distributed under the License is distributed on an \"AS IS\" BASIS,\n",
              "// WITHOUT WARRANTIES OR CONDITIONS OF ANY KIND, either express or implied.\n",
              "// See the License for the specific language governing permissions and\n",
              "// limitations under the License.\n",
              "\n",
              "/**\n",
              " * @fileoverview Helpers for google.colab Python module.\n",
              " */\n",
              "(function(scope) {\n",
              "function span(text, styleAttributes = {}) {\n",
              "  const element = document.createElement('span');\n",
              "  element.textContent = text;\n",
              "  for (const key of Object.keys(styleAttributes)) {\n",
              "    element.style[key] = styleAttributes[key];\n",
              "  }\n",
              "  return element;\n",
              "}\n",
              "\n",
              "// Max number of bytes which will be uploaded at a time.\n",
              "const MAX_PAYLOAD_SIZE = 100 * 1024;\n",
              "\n",
              "function _uploadFiles(inputId, outputId) {\n",
              "  const steps = uploadFilesStep(inputId, outputId);\n",
              "  const outputElement = document.getElementById(outputId);\n",
              "  // Cache steps on the outputElement to make it available for the next call\n",
              "  // to uploadFilesContinue from Python.\n",
              "  outputElement.steps = steps;\n",
              "\n",
              "  return _uploadFilesContinue(outputId);\n",
              "}\n",
              "\n",
              "// This is roughly an async generator (not supported in the browser yet),\n",
              "// where there are multiple asynchronous steps and the Python side is going\n",
              "// to poll for completion of each step.\n",
              "// This uses a Promise to block the python side on completion of each step,\n",
              "// then passes the result of the previous step as the input to the next step.\n",
              "function _uploadFilesContinue(outputId) {\n",
              "  const outputElement = document.getElementById(outputId);\n",
              "  const steps = outputElement.steps;\n",
              "\n",
              "  const next = steps.next(outputElement.lastPromiseValue);\n",
              "  return Promise.resolve(next.value.promise).then((value) => {\n",
              "    // Cache the last promise value to make it available to the next\n",
              "    // step of the generator.\n",
              "    outputElement.lastPromiseValue = value;\n",
              "    return next.value.response;\n",
              "  });\n",
              "}\n",
              "\n",
              "/**\n",
              " * Generator function which is called between each async step of the upload\n",
              " * process.\n",
              " * @param {string} inputId Element ID of the input file picker element.\n",
              " * @param {string} outputId Element ID of the output display.\n",
              " * @return {!Iterable<!Object>} Iterable of next steps.\n",
              " */\n",
              "function* uploadFilesStep(inputId, outputId) {\n",
              "  const inputElement = document.getElementById(inputId);\n",
              "  inputElement.disabled = false;\n",
              "\n",
              "  const outputElement = document.getElementById(outputId);\n",
              "  outputElement.innerHTML = '';\n",
              "\n",
              "  const pickedPromise = new Promise((resolve) => {\n",
              "    inputElement.addEventListener('change', (e) => {\n",
              "      resolve(e.target.files);\n",
              "    });\n",
              "  });\n",
              "\n",
              "  const cancel = document.createElement('button');\n",
              "  inputElement.parentElement.appendChild(cancel);\n",
              "  cancel.textContent = 'Cancel upload';\n",
              "  const cancelPromise = new Promise((resolve) => {\n",
              "    cancel.onclick = () => {\n",
              "      resolve(null);\n",
              "    };\n",
              "  });\n",
              "\n",
              "  // Wait for the user to pick the files.\n",
              "  const files = yield {\n",
              "    promise: Promise.race([pickedPromise, cancelPromise]),\n",
              "    response: {\n",
              "      action: 'starting',\n",
              "    }\n",
              "  };\n",
              "\n",
              "  cancel.remove();\n",
              "\n",
              "  // Disable the input element since further picks are not allowed.\n",
              "  inputElement.disabled = true;\n",
              "\n",
              "  if (!files) {\n",
              "    return {\n",
              "      response: {\n",
              "        action: 'complete',\n",
              "      }\n",
              "    };\n",
              "  }\n",
              "\n",
              "  for (const file of files) {\n",
              "    const li = document.createElement('li');\n",
              "    li.append(span(file.name, {fontWeight: 'bold'}));\n",
              "    li.append(span(\n",
              "        `(${file.type || 'n/a'}) - ${file.size} bytes, ` +\n",
              "        `last modified: ${\n",
              "            file.lastModifiedDate ? file.lastModifiedDate.toLocaleDateString() :\n",
              "                                    'n/a'} - `));\n",
              "    const percent = span('0% done');\n",
              "    li.appendChild(percent);\n",
              "\n",
              "    outputElement.appendChild(li);\n",
              "\n",
              "    const fileDataPromise = new Promise((resolve) => {\n",
              "      const reader = new FileReader();\n",
              "      reader.onload = (e) => {\n",
              "        resolve(e.target.result);\n",
              "      };\n",
              "      reader.readAsArrayBuffer(file);\n",
              "    });\n",
              "    // Wait for the data to be ready.\n",
              "    let fileData = yield {\n",
              "      promise: fileDataPromise,\n",
              "      response: {\n",
              "        action: 'continue',\n",
              "      }\n",
              "    };\n",
              "\n",
              "    // Use a chunked sending to avoid message size limits. See b/62115660.\n",
              "    let position = 0;\n",
              "    do {\n",
              "      const length = Math.min(fileData.byteLength - position, MAX_PAYLOAD_SIZE);\n",
              "      const chunk = new Uint8Array(fileData, position, length);\n",
              "      position += length;\n",
              "\n",
              "      const base64 = btoa(String.fromCharCode.apply(null, chunk));\n",
              "      yield {\n",
              "        response: {\n",
              "          action: 'append',\n",
              "          file: file.name,\n",
              "          data: base64,\n",
              "        },\n",
              "      };\n",
              "\n",
              "      let percentDone = fileData.byteLength === 0 ?\n",
              "          100 :\n",
              "          Math.round((position / fileData.byteLength) * 100);\n",
              "      percent.textContent = `${percentDone}% done`;\n",
              "\n",
              "    } while (position < fileData.byteLength);\n",
              "  }\n",
              "\n",
              "  // All done.\n",
              "  yield {\n",
              "    response: {\n",
              "      action: 'complete',\n",
              "    }\n",
              "  };\n",
              "}\n",
              "\n",
              "scope.google = scope.google || {};\n",
              "scope.google.colab = scope.google.colab || {};\n",
              "scope.google.colab._files = {\n",
              "  _uploadFiles,\n",
              "  _uploadFilesContinue,\n",
              "};\n",
              "})(self);\n",
              "</script> "
            ]
          },
          "metadata": {}
        },
        {
          "output_type": "stream",
          "name": "stdout",
          "text": [
            "Saving spam.csv to spam (1).csv\n"
          ]
        }
      ]
    },
    {
      "cell_type": "code",
      "source": [
        "!wget http://nlp.stanford.edu/data/glove.6B.zip\n",
        "!unzip glove.6B.zip"
      ],
      "metadata": {
        "colab": {
          "base_uri": "https://localhost:8080/"
        },
        "id": "-qEbGGV1hNN-",
        "outputId": "50f30b4f-1715-4d58-8f55-5b25f0b28c84"
      },
      "execution_count": 7,
      "outputs": [
        {
          "output_type": "stream",
          "name": "stdout",
          "text": [
            "--2024-03-06 20:46:54--  http://nlp.stanford.edu/data/glove.6B.zip\n",
            "Resolving nlp.stanford.edu (nlp.stanford.edu)... 171.64.67.140\n",
            "Connecting to nlp.stanford.edu (nlp.stanford.edu)|171.64.67.140|:80... connected.\n",
            "HTTP request sent, awaiting response... 302 Found\n",
            "Location: https://nlp.stanford.edu/data/glove.6B.zip [following]\n",
            "--2024-03-06 20:46:54--  https://nlp.stanford.edu/data/glove.6B.zip\n",
            "Connecting to nlp.stanford.edu (nlp.stanford.edu)|171.64.67.140|:443... connected.\n",
            "HTTP request sent, awaiting response... 301 Moved Permanently\n",
            "Location: https://downloads.cs.stanford.edu/nlp/data/glove.6B.zip [following]\n",
            "--2024-03-06 20:46:55--  https://downloads.cs.stanford.edu/nlp/data/glove.6B.zip\n",
            "Resolving downloads.cs.stanford.edu (downloads.cs.stanford.edu)... 171.64.64.22\n",
            "Connecting to downloads.cs.stanford.edu (downloads.cs.stanford.edu)|171.64.64.22|:443... connected.\n",
            "HTTP request sent, awaiting response... 200 OK\n",
            "Length: 862182613 (822M) [application/zip]\n",
            "Saving to: ‘glove.6B.zip’\n",
            "\n",
            "glove.6B.zip        100%[===================>] 822.24M  5.12MB/s    in 2m 45s  \n",
            "\n",
            "2024-03-06 20:49:40 (4.98 MB/s) - ‘glove.6B.zip’ saved [862182613/862182613]\n",
            "\n",
            "Archive:  glove.6B.zip\n",
            "  inflating: glove.6B.50d.txt        \n",
            "  inflating: glove.6B.100d.txt       \n",
            "  inflating: glove.6B.200d.txt       \n",
            "  inflating: glove.6B.300d.txt       \n"
          ]
        }
      ]
    },
    {
      "cell_type": "code",
      "source": [
        "import gensim.downloader as api\n",
        "embeddings = api.load(\"glove-wiki-gigaword-50\")"
      ],
      "metadata": {
        "colab": {
          "base_uri": "https://localhost:8080/"
        },
        "id": "kRTATOoih2Xk",
        "outputId": "217d300c-b1d6-4e99-cf6f-31804fa6e3c6"
      },
      "execution_count": 9,
      "outputs": [
        {
          "output_type": "stream",
          "name": "stdout",
          "text": [
            "[==================================================] 100.0% 66.0/66.0MB downloaded\n"
          ]
        }
      ]
    },
    {
      "cell_type": "code",
      "source": [
        "embeddings['hello']"
      ],
      "metadata": {
        "colab": {
          "base_uri": "https://localhost:8080/"
        },
        "id": "aETXKGPGhOlx",
        "outputId": "3a155412-2baf-47e8-c86e-e766dfd92fa5"
      },
      "execution_count": 10,
      "outputs": [
        {
          "output_type": "execute_result",
          "data": {
            "text/plain": [
              "array([-0.38497 ,  0.80092 ,  0.064106, -0.28355 , -0.026759, -0.34532 ,\n",
              "       -0.64253 , -0.11729 , -0.33257 ,  0.55243 , -0.087813,  0.9035  ,\n",
              "        0.47102 ,  0.56657 ,  0.6985  , -0.35229 , -0.86542 ,  0.90573 ,\n",
              "        0.03576 , -0.071705, -0.12327 ,  0.54923 ,  0.47005 ,  0.35572 ,\n",
              "        1.2611  , -0.67581 , -0.94983 ,  0.68666 ,  0.3871  , -1.3492  ,\n",
              "        0.63512 ,  0.46416 , -0.48814 ,  0.83827 , -0.9246  , -0.33722 ,\n",
              "        0.53741 , -1.0616  , -0.081403, -0.67111 ,  0.30923 , -0.3923  ,\n",
              "       -0.55002 , -0.68827 ,  0.58049 , -0.11626 ,  0.013139, -0.57654 ,\n",
              "        0.048833,  0.67204 ], dtype=float32)"
            ]
          },
          "metadata": {},
          "execution_count": 10
        }
      ]
    },
    {
      "cell_type": "code",
      "source": [
        "# Start LSTM Model for Spam Detection\n",
        "# LSTMs are the industry standard model to counter vanishing/exploding gradients\n",
        "import numpy as np\n",
        "import tensorflow\n",
        "np.random.seed(0)\n",
        "from tensorflow.keras.models import Model\n",
        "from tensorflow.keras.layers import Dense, Input, Dropout, LSTM, Activation\n",
        "from tensorflow.keras.layers import Embedding\n",
        "from tensorflow.keras.preprocessing import sequence\n",
        "from tensorflow.keras.initializers import glorot_uniform\n",
        "import pandas as pd\n",
        "from sklearn.model_selection import train_test_split\n",
        "from sklearn.preprocessing import LabelEncoder\n",
        "from keras.utils import to_categorical\n",
        "\n",
        "np.random.seed(1)"
      ],
      "metadata": {
        "id": "_-pNPPtprvBm"
      },
      "execution_count": 34,
      "outputs": []
    },
    {
      "cell_type": "code",
      "source": [
        "# Utils\n",
        "# UNQ_C3 (UNIQUE CELL IDENTIFIER, DO NOT EDIT)\n",
        "# GRADED FUNCTION: sentences_to_indices\n",
        "\n",
        "def sentences_to_indices(X, word_to_index, max_len):\n",
        "    \"\"\"\n",
        "    Converts an array of sentences (strings) into an array of indices corresponding to words in the sentences.\n",
        "    The output shape should be such that it can be given to `Embedding()` (described in Figure 4).\n",
        "\n",
        "    Arguments:\n",
        "    X -- array of sentences (strings), of shape (m,)\n",
        "    word_to_index -- a dictionary containing the each word mapped to its index\n",
        "    max_len -- maximum number of words in a sentence. You can assume every sentence in X is no longer than this.\n",
        "\n",
        "    Returns:\n",
        "    X_indices -- array of indices corresponding to words in the sentences from X, of shape (m, max_len)\n",
        "    \"\"\"\n",
        "\n",
        "    m = X.shape[0]                                   # number of training examples\n",
        "\n",
        "    ### START CODE HERE ###\n",
        "    # Initialize X_indices as a numpy matrix of zeros and the correct shape (≈ 1 line)\n",
        "    X_indices = np.zeros((m,max_len))\n",
        "\n",
        "    for i in range(m):                               # loop over training examples\n",
        "\n",
        "        # Convert the ith training sentence to lower case and split it into words. You should get a list of words.\n",
        "        sentence_words = X[i].lower().split()\n",
        "\n",
        "        # Initialize j to 0\n",
        "        j = 0\n",
        "\n",
        "        # Loop over the words of sentence_words\n",
        "\n",
        "        for w in sentence_words:\n",
        "            # if w exists in the word_to_index dictionary\n",
        "            if w in word_to_index:\n",
        "                # Set the (i,j)th entry of X_indices to the index of the correct word.\n",
        "                X_indices[i, j] = word_to_index[w]\n",
        "                # Increment j to j + 1\n",
        "                j =  j+1\n",
        "\n",
        "    ### END CODE HERE ###\n",
        "\n",
        "    return X_indices\n",
        "\n",
        "def pretrained_embedding_layer(word_to_vec_map, word_to_index):\n",
        "    \"\"\"\n",
        "    Creates a Keras Embedding() layer and loads in pre-trained GloVe 50-dimensional vectors.\n",
        "\n",
        "    Arguments:\n",
        "    word_to_vec_map -- dictionary mapping words to their GloVe vector representation\n",
        "    word_to_index -- dictionary mapping from words to their indices in the vocabulary\n",
        "\n",
        "    Returns:\n",
        "    embedding_layer -- pretrained layer Keras instance\n",
        "    \"\"\"\n",
        "\n",
        "    vocab_size = len(word_to_index) + 1\n",
        "    any_word = next(iter(word_to_index.keys()))\n",
        "    emb_dim = word_to_vec_map[any_word].shape[0]\n",
        "\n",
        "     # Step 1\n",
        "    # Initialize the embedding matrix as a numpy array of zeros.\n",
        "    emb_matrix = np.zeros((vocab_size, emb_dim))\n",
        "\n",
        "    # Step 2\n",
        "    # Set each row \"idx\" of the embedding matrix to be\n",
        "    # the word vector representation of the idx'th word of the vocabulary\n",
        "    for word, idx in word_to_index.items():\n",
        "        emb_matrix[idx, :] = word_to_vec_map[word]\n",
        "\n",
        "    # Step 3\n",
        "    # Define Keras embedding layer with the correct input and output sizes\n",
        "    # Make it non-trainable because we are just loading in pretrained GloVe 50-dimensional vectors\n",
        "    embedding_layer = Embedding(input_dim=vocab_size , output_dim=emb_dim , trainable=False)\n",
        "\n",
        "    # Step 4 (already done for you; please do not modify)\n",
        "    # Build the embedding layer, it is required before setting the weights of the embedding layer.\n",
        "    embedding_layer.build((None,))\n",
        "\n",
        "\n",
        "    # Set the weights of the embedding layer to the embedding matrix. Your layer is now pretrained.\n",
        "    embedding_layer.set_weights([emb_matrix])\n",
        "\n",
        "    return embedding_layer\n",
        "\n",
        "# Functions taken from emo_utils.py\n",
        "def read_glove_vecs(embeddings):\n",
        "      # for line in embeddings.vocab.keys():\n",
        "      #     print('line',line)\n",
        "      #     line = line.strip().split()\n",
        "      #     curr_word = line[0]\n",
        "      #     words.add(curr_word)\n",
        "      #     word_to_vec_map[curr_word] = np.array(embeddings[curr_word], dtype=np.float64)\n",
        "\n",
        "      words_to_index = embeddings.key_to_index\n",
        "      index_to_words = embeddings.index_to_key\n",
        "      word_to_vec_map = embeddings\n",
        "      return words_to_index, index_to_words, word_to_vec_map\n",
        "\n",
        "def convert_to_one_hot(Y, C):\n",
        "    print('Y.reshape(-1)',Y.reshape(-1))\n",
        "    print('C',C)\n",
        "    Y = np.eye(C)[Y.reshape(-1)]\n",
        "    return Y\n",
        "\n",
        "def read_csv(filename = 'data/emojify_data.csv'):\n",
        "    phrase = []\n",
        "    emoji = []\n",
        "\n",
        "    with open (filename) as csvDataFile:\n",
        "        csvReader = csv.reader(csvDataFile)\n",
        "\n",
        "        for row in csvReader:\n",
        "            phrase.append(row[0])\n",
        "            emoji.append(row[1])\n",
        "\n",
        "    X = np.asarray(phrase)\n",
        "    Y = np.asarray(emoji, dtype=int)\n",
        "\n",
        "    return X[:10], Y[:10]"
      ],
      "metadata": {
        "id": "xvRpz5f8r5uz"
      },
      "execution_count": 38,
      "outputs": []
    },
    {
      "cell_type": "code",
      "source": [
        " word_to_index, index_to_word, word_to_vec_map = read_glove_vecs(embeddings)"
      ],
      "metadata": {
        "id": "7E6r885YsYOo"
      },
      "execution_count": 28,
      "outputs": []
    },
    {
      "cell_type": "code",
      "source": [
        "X1 = np.array([\"funny lol\", \"lets play baseball\", \"food is ready for you\"])\n",
        "X1_indices = sentences_to_indices(X1, word_to_index, max_len=5)\n",
        "print(\"X1 =\", X1)\n",
        "print(\"X1_indices =\\n\", X1_indices)\n",
        "\n",
        "# Load in csv dataset\n",
        "df = pd.read_csv('spam.csv',delimiter=',',encoding='latin-1')\n",
        "df.head()\n",
        "df.info()\n",
        "\n",
        "df.drop(['Unnamed: 2', 'Unnamed: 3', 'Unnamed: 4'],axis=1,inplace=True)\n",
        "df.info()\n",
        "\n",
        "# Get input and outputs\n",
        "X = df.v2.iloc[:100]\n",
        "Y = df.v1.iloc[:100]\n",
        "X_train,X_test,Y_train,Y_test = train_test_split(X,Y,test_size=0.20)\n",
        "#,Y_train,Y_test =\n",
        "# print(len(X_train))\n",
        "# print(len(Y_train))\n",
        "# print(len(Y_test))\n",
        "# print(len(Y_test)/(len(Y_train)+len(Y_test)))\n",
        "\n",
        "maxLen = len(max(X_train, key=lambda x: len(x.split())).split())\n",
        "maxLen\n",
        "\n",
        "# word_to_index, index_to_word, word_to_vec_map = read_glove_vecs('data/glove.6B.50d.txt')"
      ],
      "metadata": {
        "colab": {
          "base_uri": "https://localhost:8080/"
        },
        "id": "DZBObNoXsHdb",
        "outputId": "441c3d4b-3ab9-4316-fe52-6a417480f729"
      },
      "execution_count": 33,
      "outputs": [
        {
          "output_type": "stream",
          "name": "stdout",
          "text": [
            "X1 = ['funny lol' 'lets play baseball' 'food is ready for you']\n",
            "X1_indices =\n",
            " [[5.4660e+03 7.3048e+04 0.0000e+00 0.0000e+00 0.0000e+00]\n",
            " [8.2350e+03 2.8200e+02 1.4440e+03 0.0000e+00 0.0000e+00]\n",
            " [5.6500e+02 1.4000e+01 1.1880e+03 1.0000e+01 8.1000e+01]]\n",
            "<class 'pandas.core.frame.DataFrame'>\n",
            "RangeIndex: 5572 entries, 0 to 5571\n",
            "Data columns (total 5 columns):\n",
            " #   Column      Non-Null Count  Dtype \n",
            "---  ------      --------------  ----- \n",
            " 0   v1          5572 non-null   object\n",
            " 1   v2          5572 non-null   object\n",
            " 2   Unnamed: 2  50 non-null     object\n",
            " 3   Unnamed: 3  12 non-null     object\n",
            " 4   Unnamed: 4  6 non-null      object\n",
            "dtypes: object(5)\n",
            "memory usage: 217.8+ KB\n",
            "<class 'pandas.core.frame.DataFrame'>\n",
            "RangeIndex: 5572 entries, 0 to 5571\n",
            "Data columns (total 2 columns):\n",
            " #   Column  Non-Null Count  Dtype \n",
            "---  ------  --------------  ----- \n",
            " 0   v1      5572 non-null   object\n",
            " 1   v2      5572 non-null   object\n",
            "dtypes: object(2)\n",
            "memory usage: 87.2+ KB\n"
          ]
        },
        {
          "output_type": "execute_result",
          "data": {
            "text/plain": [
              "55"
            ]
          },
          "metadata": {},
          "execution_count": 33
        }
      ]
    },
    {
      "cell_type": "code",
      "source": [
        "def SMS_SPAM_DETECT_LSTM(input_shape, word_to_vec_map, word_to_index):\n",
        "    \"\"\"\n",
        "    Function creating the Emojify-v2 model's graph.\n",
        "\n",
        "    Arguments:\n",
        "    input_shape -- shape of the input, usually (max_len,)\n",
        "    word_to_vec_map -- dictionary mapping every word in a vocabulary into its 50-dimensional vector representation\n",
        "    word_to_index -- dictionary mapping from words to their indices in the vocabulary (400,001 words)\n",
        "\n",
        "    Returns:\n",
        "    model -- a model instance in Keras\n",
        "    \"\"\"\n",
        "\n",
        "    ### START CODE HERE ###\n",
        "    # Define sentence_indices as the input of the graph.\n",
        "    # It should be of shape input_shape and dtype 'int32' (as it contains indices, which are integers).\n",
        "    sentence_indices = Input(shape=(input_shape), dtype='int32')\n",
        "\n",
        "    # Create the embedding layer pretrained with GloVe Vectors (≈1 line)\n",
        "    embedding_layer = pretrained_embedding_layer(word_to_vec_map, word_to_index)\n",
        "\n",
        "    # Propagate sentence_indices through your embedding layer\n",
        "    # (See additional hints in the instructions).\n",
        "    embeddings = embedding_layer(sentence_indices)\n",
        "\n",
        "    # Propagate the embeddings through an LSTM layer with 128-dimensional hidden state\n",
        "    # The returned output should be a batch of sequences.\n",
        "    X = LSTM(units = 128, return_sequences= True)(embeddings)\n",
        "    # Add dropout with a probability of 0.5\n",
        "    X = Dropout(rate = 0.5 )(X)\n",
        "    # Propagate X trough another LSTM layer with 128-dimensional hidden state\n",
        "    # The returned output should be a single hidden state, not a batch of sequences.\n",
        "    X = LSTM(units = 128, return_sequences= False)(X)\n",
        "    # Add dropout with a probability of 0.5\n",
        "    X = Dropout(rate = 0.5 )(X)\n",
        "    # Propagate X through a Dense layer with 2 units\n",
        "    X = Dense(units = 2)(X)\n",
        "    # Add a softmax activation\n",
        "    X = Activation('softmax')(X)\n",
        "\n",
        "    # Create Model instance which converts sentence_indices into X.\n",
        "    model = Model(inputs=sentence_indices, outputs=X)\n",
        "\n",
        "    ### END CODE HERE ###\n",
        "\n",
        "    return model"
      ],
      "metadata": {
        "id": "sZS8ZdwJij6Q"
      },
      "execution_count": 35,
      "outputs": []
    },
    {
      "cell_type": "code",
      "source": [
        "model = SMS_SPAM_DETECT_LSTM((maxLen,), word_to_vec_map, word_to_index)\n",
        "model.summary()"
      ],
      "metadata": {
        "colab": {
          "base_uri": "https://localhost:8080/"
        },
        "id": "awsY5Zpyv4N4",
        "outputId": "9aafff6a-f4b9-4897-f7d4-c8fde769a918"
      },
      "execution_count": 39,
      "outputs": [
        {
          "output_type": "stream",
          "name": "stdout",
          "text": [
            "Model: \"model\"\n",
            "_________________________________________________________________\n",
            " Layer (type)                Output Shape              Param #   \n",
            "=================================================================\n",
            " input_2 (InputLayer)        [(None, 55)]              0         \n",
            "                                                                 \n",
            " embedding_1 (Embedding)     (None, 55, 50)            20000050  \n",
            "                                                                 \n",
            " lstm (LSTM)                 (None, 55, 128)           91648     \n",
            "                                                                 \n",
            " dropout (Dropout)           (None, 55, 128)           0         \n",
            "                                                                 \n",
            " lstm_1 (LSTM)               (None, 128)               131584    \n",
            "                                                                 \n",
            " dropout_1 (Dropout)         (None, 128)               0         \n",
            "                                                                 \n",
            " dense (Dense)               (None, 2)                 258       \n",
            "                                                                 \n",
            " activation (Activation)     (None, 2)                 0         \n",
            "                                                                 \n",
            "=================================================================\n",
            "Total params: 20223540 (77.15 MB)\n",
            "Trainable params: 223490 (873.01 KB)\n",
            "Non-trainable params: 20000050 (76.29 MB)\n",
            "_________________________________________________________________\n"
          ]
        }
      ]
    },
    {
      "cell_type": "code",
      "source": [
        "model.compile(loss='categorical_crossentropy', optimizer='adam', metrics=['accuracy'])"
      ],
      "metadata": {
        "id": "dAIgWY0gv9Xw"
      },
      "execution_count": 42,
      "outputs": []
    },
    {
      "cell_type": "code",
      "source": [
        "X_train_np = np.array(X_train)\n",
        "X_train_indices = sentences_to_indices(X_train_np, word_to_index, maxLen)\n",
        "Y_train_np = np.array(Y_train)\n",
        "label_encoder = LabelEncoder()\n",
        "Y_train_vec = label_encoder.fit_transform(Y_train_np)\n",
        "Y_train_oh = to_categorical(Y_train_vec)\n",
        "\n",
        "model.fit(X_train_indices, Y_train_oh, epochs = 50, batch_size = 32, shuffle=True)"
      ],
      "metadata": {
        "colab": {
          "base_uri": "https://localhost:8080/"
        },
        "id": "eQl5Xzurw14j",
        "outputId": "6081511d-34a8-4f07-f455-6b6096e0678c"
      },
      "execution_count": 43,
      "outputs": [
        {
          "output_type": "stream",
          "name": "stdout",
          "text": [
            "Epoch 1/50\n",
            "3/3 [==============================] - 7s 253ms/step - loss: 0.5999 - accuracy: 0.7000\n",
            "Epoch 2/50\n",
            "3/3 [==============================] - 1s 250ms/step - loss: 0.4898 - accuracy: 0.8250\n",
            "Epoch 3/50\n",
            "3/3 [==============================] - 1s 258ms/step - loss: 0.4745 - accuracy: 0.8250\n",
            "Epoch 4/50\n",
            "3/3 [==============================] - 1s 206ms/step - loss: 0.4595 - accuracy: 0.8250\n",
            "Epoch 5/50\n",
            "3/3 [==============================] - 1s 277ms/step - loss: 0.4555 - accuracy: 0.8250\n",
            "Epoch 6/50\n",
            "3/3 [==============================] - 1s 276ms/step - loss: 0.4528 - accuracy: 0.8250\n",
            "Epoch 7/50\n",
            "3/3 [==============================] - 1s 231ms/step - loss: 0.4954 - accuracy: 0.8250\n",
            "Epoch 8/50\n",
            "3/3 [==============================] - 1s 220ms/step - loss: 0.4759 - accuracy: 0.8250\n",
            "Epoch 9/50\n",
            "3/3 [==============================] - 1s 209ms/step - loss: 0.4725 - accuracy: 0.8250\n",
            "Epoch 10/50\n",
            "3/3 [==============================] - 1s 343ms/step - loss: 0.4985 - accuracy: 0.8125\n",
            "Epoch 11/50\n",
            "3/3 [==============================] - 1s 337ms/step - loss: 0.4967 - accuracy: 0.8250\n",
            "Epoch 12/50\n",
            "3/3 [==============================] - 1s 239ms/step - loss: 0.4397 - accuracy: 0.8250\n",
            "Epoch 13/50\n",
            "3/3 [==============================] - 1s 252ms/step - loss: 0.4772 - accuracy: 0.8250\n",
            "Epoch 14/50\n",
            "3/3 [==============================] - 1s 248ms/step - loss: 0.4511 - accuracy: 0.8250\n",
            "Epoch 15/50\n",
            "3/3 [==============================] - 0s 108ms/step - loss: 0.4410 - accuracy: 0.8250\n",
            "Epoch 16/50\n",
            "3/3 [==============================] - 0s 103ms/step - loss: 0.4245 - accuracy: 0.8250\n",
            "Epoch 17/50\n",
            "3/3 [==============================] - 0s 113ms/step - loss: 0.4815 - accuracy: 0.8250\n",
            "Epoch 18/50\n",
            "3/3 [==============================] - 0s 106ms/step - loss: 0.4978 - accuracy: 0.8250\n",
            "Epoch 19/50\n",
            "3/3 [==============================] - 0s 104ms/step - loss: 0.5100 - accuracy: 0.8250\n",
            "Epoch 20/50\n",
            "3/3 [==============================] - 0s 115ms/step - loss: 0.4427 - accuracy: 0.8250\n",
            "Epoch 21/50\n",
            "3/3 [==============================] - 1s 182ms/step - loss: 0.4541 - accuracy: 0.8250\n",
            "Epoch 22/50\n",
            "3/3 [==============================] - 0s 105ms/step - loss: 0.4743 - accuracy: 0.8250\n",
            "Epoch 23/50\n",
            "3/3 [==============================] - 0s 110ms/step - loss: 0.4579 - accuracy: 0.8250\n",
            "Epoch 24/50\n",
            "3/3 [==============================] - 1s 173ms/step - loss: 0.5160 - accuracy: 0.8250\n",
            "Epoch 25/50\n",
            "3/3 [==============================] - 1s 205ms/step - loss: 0.4867 - accuracy: 0.8250\n",
            "Epoch 26/50\n",
            "3/3 [==============================] - 1s 229ms/step - loss: 0.4598 - accuracy: 0.8250\n",
            "Epoch 27/50\n",
            "3/3 [==============================] - 0s 127ms/step - loss: 0.4825 - accuracy: 0.8250\n",
            "Epoch 28/50\n",
            "3/3 [==============================] - 0s 102ms/step - loss: 0.4734 - accuracy: 0.8250\n",
            "Epoch 29/50\n",
            "3/3 [==============================] - 1s 260ms/step - loss: 0.4901 - accuracy: 0.8250\n",
            "Epoch 30/50\n",
            "3/3 [==============================] - 1s 262ms/step - loss: 0.5023 - accuracy: 0.8250\n",
            "Epoch 31/50\n",
            "3/3 [==============================] - 0s 107ms/step - loss: 0.4782 - accuracy: 0.8250\n",
            "Epoch 32/50\n",
            "3/3 [==============================] - 1s 159ms/step - loss: 0.4719 - accuracy: 0.8250\n",
            "Epoch 33/50\n",
            "3/3 [==============================] - 0s 107ms/step - loss: 0.4750 - accuracy: 0.8250\n",
            "Epoch 34/50\n",
            "3/3 [==============================] - 0s 128ms/step - loss: 0.4775 - accuracy: 0.8250\n",
            "Epoch 35/50\n",
            "3/3 [==============================] - 1s 200ms/step - loss: 0.4621 - accuracy: 0.8250\n",
            "Epoch 36/50\n",
            "3/3 [==============================] - 1s 255ms/step - loss: 0.4435 - accuracy: 0.8250\n",
            "Epoch 37/50\n",
            "3/3 [==============================] - 1s 244ms/step - loss: 0.4783 - accuracy: 0.8250\n",
            "Epoch 38/50\n",
            "3/3 [==============================] - 1s 196ms/step - loss: 0.4702 - accuracy: 0.8250\n",
            "Epoch 39/50\n",
            "3/3 [==============================] - 1s 194ms/step - loss: 0.4727 - accuracy: 0.8250\n",
            "Epoch 40/50\n",
            "3/3 [==============================] - 1s 204ms/step - loss: 0.4408 - accuracy: 0.8250\n",
            "Epoch 41/50\n",
            "3/3 [==============================] - 1s 201ms/step - loss: 0.4748 - accuracy: 0.8250\n",
            "Epoch 42/50\n",
            "3/3 [==============================] - 1s 194ms/step - loss: 0.4749 - accuracy: 0.8250\n",
            "Epoch 43/50\n",
            "3/3 [==============================] - 1s 393ms/step - loss: 0.4243 - accuracy: 0.8250\n",
            "Epoch 44/50\n",
            "3/3 [==============================] - 1s 337ms/step - loss: 0.5072 - accuracy: 0.8250\n",
            "Epoch 45/50\n",
            "3/3 [==============================] - 1s 346ms/step - loss: 0.4735 - accuracy: 0.8250\n",
            "Epoch 46/50\n",
            "3/3 [==============================] - 1s 303ms/step - loss: 0.4931 - accuracy: 0.8250\n",
            "Epoch 47/50\n",
            "3/3 [==============================] - 1s 364ms/step - loss: 0.4829 - accuracy: 0.8250\n",
            "Epoch 48/50\n",
            "3/3 [==============================] - 1s 398ms/step - loss: 0.4884 - accuracy: 0.8250\n",
            "Epoch 49/50\n",
            "3/3 [==============================] - 1s 310ms/step - loss: 0.4607 - accuracy: 0.8250\n",
            "Epoch 50/50\n",
            "3/3 [==============================] - 1s 329ms/step - loss: 0.4903 - accuracy: 0.8250\n"
          ]
        },
        {
          "output_type": "execute_result",
          "data": {
            "text/plain": [
              "<keras.src.callbacks.History at 0x7df97f000970>"
            ]
          },
          "metadata": {},
          "execution_count": 43
        }
      ]
    },
    {
      "cell_type": "code",
      "source": [
        "X_test_np = np.array(X_test)\n",
        "Y_test_np = np.array(Y_test)\n",
        "X_test_indices = sentences_to_indices(X_test_np, word_to_index, max_len = maxLen)\n",
        "label_encoder = LabelEncoder()\n",
        "#     print('Y before encoding',Y)\n",
        "Y_test_vec = label_encoder.fit_transform(Y_test_np)\n",
        "#     print('Y after encoding', Y)\n",
        "#     print('Y_vec',Y_vec)\n",
        "Y_test_oh = to_categorical(Y_test_vec)\n",
        "loss, acc = model.evaluate(X_test_indices, Y_test_oh)\n",
        "print()\n",
        "print(\"Test accuracy = \", acc)"
      ],
      "metadata": {
        "id": "7rWj5HU7w8Rt"
      },
      "execution_count": null,
      "outputs": []
    },
    {
      "cell_type": "code",
      "source": [
        "label_encoder.classes_\n",
        "# Get the classes (original labels) from the LabelEncoder\n",
        "classes_dict = {index: label for index, label in enumerate(label_encoder.classes_)}\n",
        "classes_dict"
      ],
      "metadata": {
        "id": "Gouk9Nx3w--C"
      },
      "execution_count": null,
      "outputs": []
    },
    {
      "cell_type": "code",
      "source": [
        "# This code allows you to see the mislabelled examples\n",
        "pred = model.predict(X_test_indices)\n",
        "count = 0\n",
        "for i in range(len(X_test_np)):\n",
        "    num = np.argmax(pred[i])\n",
        "#     if(classes_dict[num] == 'spam'):\n",
        "#         print('predict spam')\n",
        "#         # This model never predicts spam!!\n",
        "#     if(classes_dict[num] == Y_test_np[i] and classes_dict[num] == 'spam'):\n",
        "    if(classes_dict[num] != Y_test_np[i]):\n",
        "        print('Mislabeled input:', X_test_np[i])\n",
        "        count += 1\n",
        "        print('EXPECT:'+Y_test_np[i]+' PREDICT:'+classes_dict[num])\n",
        "        print()\n",
        "        # 03/06/24: I think all of the spam got mislabeled!\n",
        "print('Total count:',count)\n",
        "#         print('Expected: ')"
      ],
      "metadata": {
        "id": "jcrNVTbKv7kk"
      },
      "execution_count": null,
      "outputs": []
    },
    {
      "cell_type": "code",
      "source": [
        "# Change the sentence below to see your prediction. Make sure all the words are in the Glove embeddings.\n",
        "x_test = np.array(['*((*(AMDDD 1800 NOW)))'])\n",
        "X_test_indices_input = sentences_to_indices(x_test, word_to_index, maxLen)\n",
        "print(x_test[0] +' '+  classes_dict[np.argmax(model.predict(X_test_indices_input))])"
      ],
      "metadata": {
        "id": "BK6sqUQYxC_o"
      },
      "execution_count": null,
      "outputs": []
    }
  ],
  "metadata": {
    "kernelspec": {
      "display_name": "Python 3",
      "language": "python",
      "name": "python3"
    },
    "language_info": {
      "codemirror_mode": {
        "name": "ipython",
        "version": 3
      },
      "file_extension": ".py",
      "mimetype": "text/x-python",
      "name": "python",
      "nbconvert_exporter": "python",
      "pygments_lexer": "ipython3",
      "version": "3.8.5"
    },
    "colab": {
      "provenance": [],
      "include_colab_link": true
    }
  },
  "nbformat": 4,
  "nbformat_minor": 0
}