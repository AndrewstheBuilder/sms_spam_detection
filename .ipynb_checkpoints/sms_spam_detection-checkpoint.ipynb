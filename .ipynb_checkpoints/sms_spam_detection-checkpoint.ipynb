{
 "cells": [
  {
   "cell_type": "code",
   "execution_count": null,
   "metadata": {},
   "outputs": [],
   "source": [
    "# Imports\n",
    "import pandas as pd\n",
    "import numpy as np\n",
    "import seaborn as sns\n",
    "import matplotlib.pyplot as plt\n",
    "from sklearn.model_selection import train_test_split\n",
    "from sklearn.preprocessing import LabelEncoder\n",
    "from keras.utils import to_categorical\n",
    "import csv\n"
   ]
  },
  {
   "cell_type": "code",
   "execution_count": null,
   "metadata": {},
   "outputs": [],
   "source": [
    "# Load in csv dataset\n",
    "df = pd.read_csv('data/spam.csv',delimiter=',',encoding='latin-1')\n",
    "df.head()\n",
    "df.info()"
   ]
  },
  {
   "cell_type": "code",
   "execution_count": null,
   "metadata": {},
   "outputs": [],
   "source": [
    "df.drop(['Unnamed: 2', 'Unnamed: 3', 'Unnamed: 4'],axis=1,inplace=True)\n",
    "df.info()"
   ]
  },
  {
   "cell_type": "code",
   "execution_count": null,
   "metadata": {},
   "outputs": [],
   "source": [
    "# See output distribution\n",
    "sns.countplot(x=df.v1)\n",
    "plt.xlabel('Label')\n",
    "plt.title('Number of ham and spam messages')"
   ]
  },
  {
   "cell_type": "code",
   "execution_count": null,
   "metadata": {},
   "outputs": [],
   "source": [
    "# Get input and outputs\n",
    "X = df.v2 #.iloc[:300]\n",
    "Y = df.v1 #.iloc[:300]\n",
    "X_train,X_test,Y_train,Y_test = train_test_split(X,Y,test_size=0.15)\n",
    "#,Y_train,Y_test = \n",
    "# print(len(X_train))\n",
    "# print(len(Y_train))\n",
    "# print(len(Y_test))\n",
    "# print(len(Y_test)/(len(Y_train)+len(Y_test)))"
   ]
  },
  {
   "cell_type": "code",
   "execution_count": null,
   "metadata": {},
   "outputs": [],
   "source": [
    "maxLen = len(max(X_train, key=lambda x: len(x.split())).split())\n",
    "maxLen"
   ]
  },
  {
   "cell_type": "code",
   "execution_count": null,
   "metadata": {},
   "outputs": [],
   "source": [
    "# Functions taken from emo_utils.py\n",
    "def read_glove_vecs(glove_file):\n",
    "    with open(glove_file, 'r', encoding='utf-8') as f:\n",
    "        words = set()\n",
    "        word_to_vec_map = {}\n",
    "        for line in f:\n",
    "            line = line.strip().split()\n",
    "            curr_word = line[0]\n",
    "            words.add(curr_word)\n",
    "            word_to_vec_map[curr_word] = np.array(line[1:], dtype=np.float64)\n",
    "        \n",
    "        i = 1\n",
    "        words_to_index = {}\n",
    "        index_to_words = {}\n",
    "        for w in sorted(words):\n",
    "            words_to_index[w] = i\n",
    "            index_to_words[i] = w\n",
    "            i = i + 1\n",
    "    return words_to_index, index_to_words, word_to_vec_map\n",
    "\n",
    "def convert_to_one_hot(Y, C):\n",
    "    print('Y.reshape(-1)',Y.reshape(-1))\n",
    "    print('C',C)\n",
    "    Y = np.eye(C)[Y.reshape(-1)]\n",
    "    return Y\n",
    "\n",
    "def read_csv(filename = 'data/emojify_data.csv'):\n",
    "    phrase = []\n",
    "    emoji = []\n",
    "\n",
    "    with open (filename) as csvDataFile:\n",
    "        csvReader = csv.reader(csvDataFile)\n",
    "\n",
    "        for row in csvReader:\n",
    "            phrase.append(row[0])\n",
    "            emoji.append(row[1])\n",
    "\n",
    "    X = np.asarray(phrase)\n",
    "    Y = np.asarray(emoji, dtype=int)\n",
    "\n",
    "    return X[:10], Y[:10]"
   ]
  },
  {
   "cell_type": "code",
   "execution_count": null,
   "metadata": {},
   "outputs": [],
   "source": [
    "# Load OG Data\n",
    "X_train, Y_train = read_csv('og_data/train_emoji.csv')\n",
    "X_test, Y_test = read_csv('og_data/tesss.csv')"
   ]
  },
  {
   "cell_type": "code",
   "execution_count": null,
   "metadata": {},
   "outputs": [],
   "source": [
    "maxLen = len(max(X_train, key=lambda x: len(x.split())).split())\n",
    "maxLen"
   ]
  },
  {
   "cell_type": "code",
   "execution_count": null,
   "metadata": {},
   "outputs": [],
   "source": [
    "word_to_index, index_to_word, word_to_vec_map = read_glove_vecs('data/glove.6B.50d.txt')"
   ]
  },
  {
   "cell_type": "code",
   "execution_count": null,
   "metadata": {},
   "outputs": [],
   "source": [
    "Y_train_NP = np.array(Y_train)\n",
    "Y_test_NP = np.array(Y_test)\n",
    "\n",
    "label_encoder = LabelEncoder()\n",
    "vec = label_encoder.fit_transform(Y_train_NP)\n",
    "print(np.unique(vec))\n",
    "print(np.unique(Y_train_NP))\n",
    "\n",
    "# Y_oh_train = pd.get_dummies(Y_train)\n",
    "# Y_oh_test = pd.get_dummies(Y_test)\n",
    "# Y_oh_train_np = np.array(Y_oh_train)\n",
    "\n",
    "# Stopped here TODO convert Y_train, Y_test to one_hot encodings. This is a binary classification problem.\n",
    "# Y_oh_train = convert_to_one_hot(Y_train, C = 2)\n",
    "# Y_oh_test = convert_to_one_hot(Y_test, C = 2)"
   ]
  },
  {
   "cell_type": "code",
   "execution_count": null,
   "metadata": {},
   "outputs": [],
   "source": [
    "def sentence_to_avg(sentence, word_to_vec_map):\n",
    "    \"\"\"\n",
    "    Converts a sentence (string) into a list of words (strings). Extracts the GloVe representation of each word\n",
    "    and averages its value into a single vector encoding the meaning of the sentence.\n",
    "    \n",
    "    Arguments:\n",
    "    sentence -- string, one training example from X\n",
    "    word_to_vec_map -- dictionary mapping every word in a vocabulary into its 50-dimensional vector representation\n",
    "    \n",
    "    Returns:\n",
    "    avg -- average vector encoding information about the sentence, numpy-array of shape (J,), where J can be any number\n",
    "    \"\"\"\n",
    "    # Get a valid word contained in the word_to_vec_map. \n",
    "    any_word = next(iter(word_to_vec_map.keys()))\n",
    "    \n",
    "    ### START CODE HERE ###\n",
    "    # Step 1: Split sentence into list of lower case words (≈ 1 line)\n",
    "    # TODO remove [:5] keeping input to only 5 words now\n",
    "    words = sentence.lower().split() #[:5]\n",
    "\n",
    "    # Initialize the average word vector, should have the same shape as your word vectors.\n",
    "    # Use `np.zeros` and pass in the argument of any word's word 2 vec's shape\n",
    "    avg = np.zeros(word_to_vec_map[any_word].shape)\n",
    "    \n",
    "    # Initialize count to 0\n",
    "    count = 0\n",
    "    \n",
    "    # Step 2: average the word vectors. You can loop over the words in the list \"words\".\n",
    "    for w in words:\n",
    "        # Check that word exists in word_to_vec_map\n",
    "        if w in word_to_vec_map:\n",
    "            avg += word_to_vec_map[w]\n",
    "            # Increment count\n",
    "            count +=1\n",
    "          \n",
    "    if count > 0:\n",
    "        # Get the average. But only if count > 0\n",
    "        avg = avg/count\n",
    "#     print('avg',avg)\n",
    "    \n",
    "    ### END CODE HERE ###\n",
    "    return avg"
   ]
  },
  {
   "cell_type": "code",
   "execution_count": null,
   "metadata": {},
   "outputs": [],
   "source": [
    "### YOU CANNOT EDIT THIS CELL\n",
    "\n",
    "# BEGIN UNIT TEST\n",
    "avg = sentence_to_avg(\"Morrocan couscous is my favorite dish\", word_to_vec_map)\n",
    "print(\"avg = \\n\", avg)\n",
    "\n",
    "def sentence_to_avg_test(target):\n",
    "    # Create a controlled word to vec map\n",
    "    word_to_vec_map = {'a': [3, 3], 'synonym_of_a': [3, 3], 'a_nw': [2, 4], 'a_s': [3, 2], \n",
    "                       'c': [-2, 1], 'c_n': [-2, 2],'c_ne': [-1, 2], 'c_e': [-1, 1], 'c_se': [-1, 0], \n",
    "                       'c_s': [-2, 0], 'c_sw': [-3, 0], 'c_w': [-3, 1], 'c_nw': [-3, 2]\n",
    "                      }\n",
    "    # Convert lists to np.arrays\n",
    "    for key in word_to_vec_map.keys():\n",
    "        word_to_vec_map[key] = np.array(word_to_vec_map[key])\n",
    "        \n",
    "    avg = target(\"a a_nw c_w a_s\", word_to_vec_map)\n",
    "    assert tuple(avg.shape) == tuple(word_to_vec_map['a'].shape),  \"Check the shape of your avg array\"  \n",
    "    assert np.allclose(avg, [1.25, 2.5]),  \"Check that you are finding the 4 words\"\n",
    "    avg = target(\"love a a_nw c_w a_s\", word_to_vec_map)\n",
    "    assert np.allclose(avg, [1.25, 2.5]), \"Divide by count, not len(words)\"\n",
    "    avg = target(\"love\", word_to_vec_map)\n",
    "    assert np.array_equal(avg, [0, 0]), \"Average of no words must give an array of zeros\"\n",
    "    avg = target(\"c_se foo a a_nw c_w a_s deeplearning c_nw\", word_to_vec_map)\n",
    "    assert np.allclose(avg, [0.1666667, 2.0]), \"Debug the last example\"\n",
    "    \n",
    "    print(\"\\033[92mAll tests passed!\")\n",
    "    \n",
    "sentence_to_avg_test(sentence_to_avg)\n",
    "\n",
    "# END UNIT TEST"
   ]
  },
  {
   "cell_type": "code",
   "execution_count": null,
   "metadata": {},
   "outputs": [],
   "source": [
    "def softmax(x):\n",
    "    \"\"\"Compute softmax values for each sets of scores in x.\"\"\"\n",
    "    e_x = np.exp(x - np.max(x))\n",
    "    return e_x / e_x.sum()\n",
    "\n",
    "def tanh(x):\n",
    "    return np.tanh(x)\n",
    "\n",
    "def predict(X, Y, W, b, word_to_vec_map):\n",
    "    \"\"\"\n",
    "    Given X (sentences) and Y (emoji indices), predict emojis and compute the accuracy of your model over the given set.\n",
    "    \n",
    "    Arguments:\n",
    "    X -- input data containing sentences, numpy array of shape (m, None)\n",
    "    Y -- labels, containing index of the label emoji, numpy array of shape (m, 1)\n",
    "    \n",
    "    Returns:\n",
    "    pred -- numpy array of shape (m, 1) with your predictions\n",
    "    \"\"\"\n",
    "    m = X.shape[0]\n",
    "    pred = np.zeros((m, 1))\n",
    "    any_word = list(word_to_vec_map.keys())[0]\n",
    "    # number of classes  \n",
    "    n_h = word_to_vec_map[any_word].shape[0] \n",
    "    \n",
    "    for j in range(m):                       # Loop over training examples\n",
    "        \n",
    "        # Split jth test example (sentence) into list of lower case words\n",
    "        # TODO remove [:5] keeping input to only 5 words now\n",
    "        words = X[j].lower().split() #[:5]\n",
    "        \n",
    "        # Average words' vectors\n",
    "        avg = np.zeros((n_h,))\n",
    "        count = 0\n",
    "        for w in words:\n",
    "            if w in word_to_vec_map:\n",
    "                avg += word_to_vec_map[w]\n",
    "                count += 1\n",
    "        \n",
    "        if count > 0:\n",
    "            avg = avg / count\n",
    "\n",
    "        # Forward propagation\n",
    "        Z = np.dot(W, avg) + b\n",
    "        \n",
    "#         # Scale Z to prevent numerical instability issues in softmax\n",
    "#         Z *= 0.2\n",
    "#         print('Z',Z)\n",
    "        \n",
    "        A = softmax(Z)\n",
    "        pred[j] = np.argmax(A)\n",
    "#     print('pred[:]',pred[:])\n",
    "#     print('Y',Y)\n",
    "#     print('Y.reshape(Y.shape[0],1)[:]',Y.reshape(Y.shape[0],1)[:])\n",
    "    print(\"Accuracy: \"  + str(np.mean((pred[:] == Y.reshape(Y.shape[0],1)[:]))))\n",
    "    \n",
    "    return pred"
   ]
  },
  {
   "cell_type": "code",
   "execution_count": null,
   "metadata": {},
   "outputs": [],
   "source": [
    "test_arr = [ 120.44504498, -3 ]\n",
    "# My z outputs are too large! Compared to how it was in the Emoji_v3a project\n",
    "# Softmax has a numerical round off issue and returns 0.\n",
    "# Its because the sentences in this dataset are larger.\n",
    "# The max word count from the previous problem is 10 words. Here it is 171!\n",
    "softmax_answer = softmax(test_arr)\n",
    "tanh_answer = tanh(test_arr)\n",
    "print('softmax',softmax_answer)\n",
    "print('tanh',tanh_answer)\n",
    "log_ans = np.log(tanh_answer)\n",
    "print(log_ans)"
   ]
  },
  {
   "cell_type": "code",
   "execution_count": null,
   "metadata": {},
   "outputs": [],
   "source": [
    "# Record the high and low of a for original data\n",
    "aOGHigh = []\n",
    "aOGLow = []\n",
    "OG_avgs = []"
   ]
  },
  {
   "cell_type": "code",
   "execution_count": null,
   "metadata": {},
   "outputs": [],
   "source": [
    "aHigh = []\n",
    "aLow = []\n",
    "avgs = []"
   ]
  },
  {
   "cell_type": "code",
   "execution_count": null,
   "metadata": {},
   "outputs": [],
   "source": [
    "# UNQ_C2 (UNIQUE CELL IDENTIFIER, DO NOT EDIT)\n",
    "# GRADED FUNCTION: model\n",
    "# TODO vectorize this code\n",
    "\n",
    "def model(X, Y, word_to_vec_map, learning_rate = 0.01, num_iterations = 400):\n",
    "    \"\"\"\n",
    "    Model to train word vector representations in numpy.\n",
    "    \n",
    "    Arguments:\n",
    "    X -- input data, numpy array of sentences as strings, of shape (m,)\n",
    "    Y -- labels, numpy array of integers between 0 and 7, numpy-array of shape (m, 1)\n",
    "    word_to_vec_map -- dictionary mapping every word in a vocabulary into its 50-dimensional vector representation\n",
    "    learning_rate -- learning_rate for the stochastic gradient descent algorithm\n",
    "    num_iterations -- number of iterations\n",
    "    \n",
    "    Returns:\n",
    "    pred -- vector of predictions, numpy-array of shape (m, 1)\n",
    "    W -- weight matrix of the softmax layer, of shape (n_y, n_h)\n",
    "    b -- bias of the softmax layer, of shape (n_y,)\n",
    "    \"\"\"\n",
    "    \n",
    "    # Get a valid word contained in the word_to_vec_map \n",
    "    any_word = next(iter(word_to_vec_map.keys()))\n",
    "        \n",
    "    # Define number of training examples\n",
    "#     print('Y.shape',Y.shape)\n",
    "    m = Y.shape[0]                             # number of training examples\n",
    "#     print('Y',Y)\n",
    "    n_y = len(np.unique(Y))                    # number of classes  \n",
    "    n_h = word_to_vec_map[any_word].shape[0]   # dimensions of the GloVe vectors \n",
    "    \n",
    "    # Initialize parameters using Xavier initialization\n",
    "    W = np.random.randn(n_y, n_h) / np.sqrt(n_h)\n",
    "    b = np.zeros((n_y,))\n",
    "    \n",
    "    # Original Convert Y to Y_onehot with n_y classes\n",
    "    Y_oh = convert_to_one_hot(Y, C = n_y)\n",
    "    \n",
    "    # Convert Y to Y_onehot with n_y classes\n",
    "#     label_encoder = LabelEncoder()\n",
    "# #     print('Y before encoding',Y)\n",
    "#     Y = label_encoder.fit_transform(Y)\n",
    "# #     print('Y after encoding', Y)\n",
    "# #     print('Y_vec',Y_vec)\n",
    "#     Y_oh = to_categorical(Y) \n",
    "    \n",
    "    # Optimization loop\n",
    "    for t in range(num_iterations): # Loop over the number of iterations\n",
    "        \n",
    "        cost = 0\n",
    "        dW = 0\n",
    "        db = 0\n",
    "        \n",
    "        for i in range(m):          # Loop over the training examples\n",
    "            \n",
    "            ### START CODE HERE ### (≈ 4 lines of code)\n",
    "            # Average the word vectors of the words from the i'th training example\n",
    "            avg = sentence_to_avg(X[i], word_to_vec_map)\n",
    "#            print('avg',avg)\n",
    "#             avgs.append(np.max(avg))\n",
    "#             OG_avgs.append(np.max(avg))\n",
    "\n",
    "            # Forward propagate the avg through the softmax layer. \n",
    "            # You can use np.dot() to perform the multiplication.\n",
    "            z = np.dot(W, avg) + b\n",
    "            dropout_mask = np.random.randint(2, size=z.shape)\n",
    "#             z *= dropout_mask # Dropout layer start:\n",
    "            \n",
    "#             print('z.shape',z.shape)\n",
    "#             print('z',z)\n",
    "#             zs.append(np.max(z)\n",
    "            \n",
    "#             print('W',W)\n",
    "#             if(z[0] < 0 and z[1] < 0):\n",
    "#                 print('z',z)\n",
    "#             print('z',z)\n",
    "\n",
    "#             # Scale the avg to solve numerical instability problem with softmax\n",
    "#             z *= 0.2\n",
    "        \n",
    "            a = softmax(z)\n",
    "#             aHigh.append(np.max(a))\n",
    "#             aLow.append(np.min(a))\n",
    "            \n",
    "#             aOGHigh.append(np.max(a))\n",
    "#             aOGLow.append(np.min(a))\n",
    "#             print('a',a)\n",
    "#             if(a[0] == 0 or a[1] == 0):\n",
    "#                 print('z',z)\n",
    "#                 print('a',a)\n",
    "\n",
    "            # Add the cost using the i'th training label's one hot representation and \"A\" (the output of the softmax)\n",
    "            cost += -np.sum(Y_oh[i] * np.log(a))\n",
    "            ### END CODE HERE ###\n",
    "            \n",
    "            # Compute gradients \n",
    "            dz = a - Y_oh[i]\n",
    "#             dz *= dropout_mask # Dropout layer back prop: disregard what was dropped out for back prop\n",
    "            dW += np.dot(dz.reshape(n_y,1), avg.reshape(1, n_h))\n",
    "            db += dz\n",
    "\n",
    "            # Update parameters with Stochastic Gradient Descent\n",
    "            W = W - learning_rate * dW\n",
    "            b = b - learning_rate * db\n",
    "            \n",
    "        assert type(cost) == np.float64, \"Incorrect implementation of cost\"\n",
    "        assert cost.shape == (), \"Incorrect implementation of cost\"\n",
    "        \n",
    "        if t % 100 == 0:\n",
    "            print(\"Epoch: \" + str(t) + \" --- cost = \" + str(cost))\n",
    "            pred = predict(X, Y, W, b, word_to_vec_map) #predict is defined in emo_utils.py\n",
    "\n",
    "#             X_test_np = np.array(X_test)\n",
    "#             Y_test_np = np.array(Y_test)\n",
    "\n",
    "#             print('X_test_np',len(X_test_np))\n",
    "#             print('Y_test_np',len(Y_test_np))\n",
    "#             print('Y_test_np',Y_test_np)\n",
    "\n",
    "#             label_encoder_1 = LabelEncoder()\n",
    "#             Y_test_vec = label_encoder_1.fit_transform(Y_test_np)\n",
    "\n",
    "#             print('Y_test_vec',Y_test_vec)\n",
    "#             print('Y_test_vec',len(Y_test_vec))\n",
    "            \n",
    "#             pred = predict(X_test_np, Y_test_vec, W, b, word_to_vec_map) #predict is defined in emo_utils.py\n",
    "\n",
    "    return pred, W, b"
   ]
  },
  {
   "cell_type": "code",
   "execution_count": null,
   "metadata": {},
   "outputs": [],
   "source": [
    "np.random.seed(1)\n",
    "X_train_np = np.array(X_train)\n",
    "Y_train_np = np.array(Y_train)\n",
    "# print('X_train_np',X_train_np.shape)\n",
    "# label_encoder = LabelEncoder()\n",
    "# Y_vec = label_encoder.fit_transform(Y_train_np)\n",
    "# Y_oh = to_categorical(Y_vec)\n",
    "# print(Y_train_np[0])\n",
    "# print(Y_oh[0])\n",
    "\n",
    "# print('X_train_np',X_train_np[111])\n",
    "# print('Y_train_np',Y_train_np[111])\n",
    "pred, W, b = model(X_train_np, Y_train_np, word_to_vec_map, learning_rate = 0.01, num_iterations = 500)"
   ]
  },
  {
   "cell_type": "code",
   "execution_count": null,
   "metadata": {},
   "outputs": [],
   "source": [
    "def predict_single_input(X, W, b, word_to_vec_map):\n",
    "    any_word = list(word_to_vec_map.keys())[0]\n",
    "    # number of classes  \n",
    "    n_h = word_to_vec_map[any_word].shape[0] \n",
    "    words = X.lower().split()\n",
    "    avg = np.zeros((n_h,))\n",
    "    count = 0\n",
    "    for w in words:\n",
    "        if w in word_to_vec_map:\n",
    "            avg += word_to_vec_map[w]\n",
    "            count += 1\n",
    "\n",
    "    if count > 0:\n",
    "        avg = avg / count\n",
    "\n",
    "    # Forward propagation\n",
    "    z = np.dot(W, avg) + b\n",
    "    a = softmax(z)\n",
    "    pred = np.argmax(a)\n",
    "    return 'ham' if pred == 0 else 'spam'"
   ]
  },
  {
   "cell_type": "code",
   "execution_count": null,
   "metadata": {},
   "outputs": [],
   "source": [
    "my_input = 'Dear Voucher Holder, To claim this weeks offer, at you PC please go to http://www.e-tlp.co.uk/expressoffer Ts&Cs apply.'\n",
    "predict_single_input(my_input, W, b, word_to_vec_map)\n",
    "# predict_single_input(my_input,W,b,word_to_vec_map)"
   ]
  },
  {
   "cell_type": "code",
   "execution_count": null,
   "metadata": {},
   "outputs": [],
   "source": [
    "# print('np.max aOGHigh',np.max(aOGHigh))\n",
    "# print('np.max aHigh  ',np.max(aHigh))\n",
    "print('np.max(avgs)',np.min(avgs))\n",
    "print('np.max(OG_avgs)',np.min(OG_avgs))"
   ]
  },
  {
   "cell_type": "code",
   "execution_count": null,
   "metadata": {},
   "outputs": [],
   "source": [
    "# sms_W = W\n",
    "# sms_W\n",
    "sns.heatmap(sms_W)"
   ]
  },
  {
   "cell_type": "code",
   "execution_count": null,
   "metadata": {},
   "outputs": [],
   "source": [
    "# emoji_W = W\n",
    "# emoji_W\n",
    "sns.heatmap(emoji_W)"
   ]
  },
  {
   "cell_type": "code",
   "execution_count": null,
   "metadata": {},
   "outputs": [],
   "source": [
    "# sms_b = b\n",
    "sms_b\n",
    "# sns.heatmap(sms_b)"
   ]
  },
  {
   "cell_type": "code",
   "execution_count": null,
   "metadata": {},
   "outputs": [],
   "source": [
    "# emoji_b = b\n",
    "emoji_b\n",
    "# sns.heatmap(emoji_b)"
   ]
  },
  {
   "cell_type": "code",
   "execution_count": 373,
   "metadata": {},
   "outputs": [],
   "source": [
    "# Start LSTM Model for Spam Detection\n",
    "# LSTMs are the industry standard model to counter vanishing/exploding gradients\n",
    "import numpy as np\n",
    "import tensorflow\n",
    "np.random.seed(0)\n",
    "from tensorflow.keras.models import Model\n",
    "from tensorflow.keras.layers import Dense, Input, Dropout, LSTM, Activation\n",
    "from tensorflow.keras.layers import Embedding\n",
    "from tensorflow.keras.preprocessing import sequence\n",
    "from tensorflow.keras.initializers import glorot_uniform\n",
    "import pandas as pd\n",
    "\n",
    "np.random.seed(1)"
   ]
  },
  {
   "cell_type": "code",
   "execution_count": 377,
   "metadata": {},
   "outputs": [],
   "source": [
    "# Utils\n",
    "# UNQ_C3 (UNIQUE CELL IDENTIFIER, DO NOT EDIT)\n",
    "# GRADED FUNCTION: sentences_to_indices\n",
    "\n",
    "def sentences_to_indices(X, word_to_index, max_len):\n",
    "    \"\"\"\n",
    "    Converts an array of sentences (strings) into an array of indices corresponding to words in the sentences.\n",
    "    The output shape should be such that it can be given to `Embedding()` (described in Figure 4). \n",
    "    \n",
    "    Arguments:\n",
    "    X -- array of sentences (strings), of shape (m,)\n",
    "    word_to_index -- a dictionary containing the each word mapped to its index\n",
    "    max_len -- maximum number of words in a sentence. You can assume every sentence in X is no longer than this. \n",
    "    \n",
    "    Returns:\n",
    "    X_indices -- array of indices corresponding to words in the sentences from X, of shape (m, max_len)\n",
    "    \"\"\"\n",
    "    \n",
    "    m = X.shape[0]                                   # number of training examples\n",
    "    \n",
    "    ### START CODE HERE ###\n",
    "    # Initialize X_indices as a numpy matrix of zeros and the correct shape (≈ 1 line)\n",
    "    X_indices = np.zeros((m,max_len))\n",
    "    \n",
    "    for i in range(m):                               # loop over training examples\n",
    "        \n",
    "        # Convert the ith training sentence to lower case and split it into words. You should get a list of words.\n",
    "        sentence_words = X[i].lower().split()\n",
    "        \n",
    "        # Initialize j to 0\n",
    "        j = 0\n",
    "        \n",
    "        # Loop over the words of sentence_words\n",
    "\n",
    "        for w in sentence_words:\n",
    "            # if w exists in the word_to_index dictionary\n",
    "            if w in word_to_index:\n",
    "                # Set the (i,j)th entry of X_indices to the index of the correct word.\n",
    "                X_indices[i, j] = word_to_index[w]\n",
    "                # Increment j to j + 1\n",
    "                j =  j+1\n",
    "            \n",
    "    ### END CODE HERE ###\n",
    "    \n",
    "    return X_indices\n",
    "\n",
    "def pretrained_embedding_layer(word_to_vec_map, word_to_index):\n",
    "    \"\"\"\n",
    "    Creates a Keras Embedding() layer and loads in pre-trained GloVe 50-dimensional vectors.\n",
    "    \n",
    "    Arguments:\n",
    "    word_to_vec_map -- dictionary mapping words to their GloVe vector representation\n",
    "    word_to_index -- dictionary mapping from words to their indices in the vocabulary \n",
    "    \n",
    "    Returns:\n",
    "    embedding_layer -- pretrained layer Keras instance\n",
    "    \"\"\"\n",
    "    \n",
    "    vocab_size = len(word_to_index) + 1\n",
    "    any_word = next(iter(word_to_vec_map.keys()))\n",
    "    emb_dim = word_to_vec_map[any_word].shape[0]\n",
    "\n",
    "     # Step 1\n",
    "    # Initialize the embedding matrix as a numpy array of zeros.\n",
    "    emb_matrix = np.zeros((vocab_size, emb_dim))\n",
    "    \n",
    "    # Step 2\n",
    "    # Set each row \"idx\" of the embedding matrix to be \n",
    "    # the word vector representation of the idx'th word of the vocabulary\n",
    "    for word, idx in word_to_index.items():\n",
    "        emb_matrix[idx, :] = word_to_vec_map[word]\n",
    "    \n",
    "    # Step 3\n",
    "    # Define Keras embedding layer with the correct input and output sizes\n",
    "    # Make it non-trainable because we are just loading in pretrained GloVe 50-dimensional vectors\n",
    "    embedding_layer = Embedding(input_dim=vocab_size , output_dim=emb_dim , trainable=False)\n",
    "    \n",
    "    # Step 4 (already done for you; please do not modify)\n",
    "    # Build the embedding layer, it is required before setting the weights of the embedding layer. \n",
    "    embedding_layer.build((None,))\n",
    "    \n",
    "    \n",
    "    # Set the weights of the embedding layer to the embedding matrix. Your layer is now pretrained.\n",
    "    embedding_layer.set_weights([emb_matrix])\n",
    "    \n",
    "    return embedding_layer"
   ]
  },
  {
   "cell_type": "code",
   "execution_count": 378,
   "metadata": {},
   "outputs": [
    {
     "name": "stdout",
     "output_type": "stream",
     "text": [
      "\u001b[92mAll tests passed!\n"
     ]
    }
   ],
   "source": [
    "### YOU CANNOT EDIT THIS CELL\n",
    "\n",
    "# UNIT TEST\n",
    "def pretrained_embedding_layer_test(target):\n",
    "    # Create a controlled word to vec map\n",
    "    word_to_vec_map = {'a': [3, 3], 'synonym_of_a': [3, 3], 'a_nw': [2, 4], 'a_s': [3, 2], 'a_n': [3, 4], \n",
    "                       'c': [-2, 1], 'c_n': [-2, 2],'c_ne': [-1, 2], 'c_e': [-1, 1], 'c_se': [-1, 0], \n",
    "                       'c_s': [-2, 0], 'c_sw': [-3, 0], 'c_w': [-3, 1], 'c_nw': [-3, 2]\n",
    "                      }\n",
    "    # Convert lists to np.arrays\n",
    "    for key in word_to_vec_map.keys():\n",
    "        word_to_vec_map[key] = np.array(word_to_vec_map[key])\n",
    "        \n",
    "    # Create a word_to_index dictionary\n",
    "    word_to_index = {}\n",
    "    for idx, val in enumerate(list(word_to_vec_map.keys())):\n",
    "        word_to_index[val] = idx;\n",
    "        \n",
    "    np.random.seed(1)\n",
    "    embedding_layer = target(word_to_vec_map, word_to_index)\n",
    "    \n",
    "    assert type(embedding_layer) == Embedding, \"Wrong type\"\n",
    "    assert embedding_layer.input_dim == len(list(word_to_vec_map.keys())) + 1, \"Wrong input shape\"\n",
    "    assert embedding_layer.output_dim == len(word_to_vec_map['a']), \"Wrong output shape\"\n",
    "    assert np.allclose(embedding_layer.get_weights(), \n",
    "                       [[[ 3, 3], [ 3, 3], [ 2, 4], [ 3, 2], [ 3, 4],\n",
    "                       [-2, 1], [-2, 2], [-1, 2], [-1, 1], [-1, 0],\n",
    "                       [-2, 0], [-3, 0], [-3, 1], [-3, 2], [ 0, 0]]]), \"Wrong vaulues\"\n",
    "    print(\"\\033[92mAll tests passed!\")\n",
    "       \n",
    "    \n",
    "pretrained_embedding_layer_test(pretrained_embedding_layer)"
   ]
  },
  {
   "cell_type": "code",
   "execution_count": 371,
   "metadata": {},
   "outputs": [
    {
     "name": "stdout",
     "output_type": "stream",
     "text": [
      "X1 = ['funny lol' 'lets play baseball' 'food is ready for you']\n",
      "X1_indices =\n",
      " [[155345. 225122.      0.      0.      0.]\n",
      " [220930. 286375.  69714.      0.      0.]\n",
      " [151204. 192973. 302254. 151349. 394475.]]\n"
     ]
    }
   ],
   "source": [
    "X1 = np.array([\"funny lol\", \"lets play baseball\", \"food is ready for you\"])\n",
    "X1_indices = sentences_to_indices(X1, word_to_index, max_len=5)\n",
    "print(\"X1 =\", X1)\n",
    "print(\"X1_indices =\\n\", X1_indices)"
   ]
  },
  {
   "cell_type": "code",
   "execution_count": 394,
   "metadata": {},
   "outputs": [
    {
     "name": "stdout",
     "output_type": "stream",
     "text": [
      "<class 'pandas.core.frame.DataFrame'>\n",
      "RangeIndex: 5572 entries, 0 to 5571\n",
      "Data columns (total 5 columns):\n",
      " #   Column      Non-Null Count  Dtype \n",
      "---  ------      --------------  ----- \n",
      " 0   v1          5572 non-null   object\n",
      " 1   v2          5572 non-null   object\n",
      " 2   Unnamed: 2  50 non-null     object\n",
      " 3   Unnamed: 3  12 non-null     object\n",
      " 4   Unnamed: 4  6 non-null      object\n",
      "dtypes: object(5)\n",
      "memory usage: 217.8+ KB\n"
     ]
    }
   ],
   "source": [
    "# Load in csv dataset\n",
    "df = pd.read_csv('data/spam.csv',delimiter=',',encoding='latin-1')\n",
    "df.head()\n",
    "df.info()"
   ]
  },
  {
   "cell_type": "code",
   "execution_count": 395,
   "metadata": {},
   "outputs": [
    {
     "name": "stdout",
     "output_type": "stream",
     "text": [
      "<class 'pandas.core.frame.DataFrame'>\n",
      "RangeIndex: 5572 entries, 0 to 5571\n",
      "Data columns (total 2 columns):\n",
      " #   Column  Non-Null Count  Dtype \n",
      "---  ------  --------------  ----- \n",
      " 0   v1      5572 non-null   object\n",
      " 1   v2      5572 non-null   object\n",
      "dtypes: object(2)\n",
      "memory usage: 87.2+ KB\n"
     ]
    }
   ],
   "source": [
    "df.drop(['Unnamed: 2', 'Unnamed: 3', 'Unnamed: 4'],axis=1,inplace=True)\n",
    "df.info()"
   ]
  },
  {
   "cell_type": "code",
   "execution_count": 449,
   "metadata": {},
   "outputs": [],
   "source": [
    "# Get input and outputs\n",
    "X = df.v2.iloc[:100]\n",
    "Y = df.v1.iloc[:100]\n",
    "X_train,X_test,Y_train,Y_test = train_test_split(X,Y,test_size=0.20)\n",
    "#,Y_train,Y_test = \n",
    "# print(len(X_train))\n",
    "# print(len(Y_train))\n",
    "# print(len(Y_test))\n",
    "# print(len(Y_test)/(len(Y_train)+len(Y_test)))"
   ]
  },
  {
   "cell_type": "code",
   "execution_count": 450,
   "metadata": {},
   "outputs": [
    {
     "data": {
      "text/plain": [
       "55"
      ]
     },
     "execution_count": 450,
     "metadata": {},
     "output_type": "execute_result"
    }
   ],
   "source": [
    "maxLen = len(max(X_train, key=lambda x: len(x.split())).split())\n",
    "maxLen"
   ]
  },
  {
   "cell_type": "code",
   "execution_count": 376,
   "metadata": {},
   "outputs": [],
   "source": [
    "word_to_index, index_to_word, word_to_vec_map = read_glove_vecs('data/glove.6B.50d.txt')"
   ]
  },
  {
   "cell_type": "code",
   "execution_count": 452,
   "metadata": {},
   "outputs": [],
   "source": [
    "def SMS_SPAM_DETECT_LSTM(input_shape, word_to_vec_map, word_to_index):\n",
    "    \"\"\"\n",
    "    Function creating the Emojify-v2 model's graph.\n",
    "    \n",
    "    Arguments:\n",
    "    input_shape -- shape of the input, usually (max_len,)\n",
    "    word_to_vec_map -- dictionary mapping every word in a vocabulary into its 50-dimensional vector representation\n",
    "    word_to_index -- dictionary mapping from words to their indices in the vocabulary (400,001 words)\n",
    "\n",
    "    Returns:\n",
    "    model -- a model instance in Keras\n",
    "    \"\"\"\n",
    "    \n",
    "    ### START CODE HERE ###\n",
    "    # Define sentence_indices as the input of the graph.\n",
    "    # It should be of shape input_shape and dtype 'int32' (as it contains indices, which are integers).\n",
    "    sentence_indices = Input(shape=(input_shape), dtype='int32')\n",
    "    \n",
    "    # Create the embedding layer pretrained with GloVe Vectors (≈1 line)\n",
    "    embedding_layer = pretrained_embedding_layer(word_to_vec_map, word_to_index)\n",
    "    \n",
    "    # Propagate sentence_indices through your embedding layer\n",
    "    # (See additional hints in the instructions).\n",
    "    embeddings = embedding_layer(sentence_indices)   \n",
    "    \n",
    "    # Propagate the embeddings through an LSTM layer with 128-dimensional hidden state\n",
    "    # The returned output should be a batch of sequences.\n",
    "    X = LSTM(units = 128, return_sequences= True)(embeddings)\n",
    "    # Add dropout with a probability of 0.5\n",
    "    X = Dropout(rate = 0.5 )(X) \n",
    "    # Propagate X trough another LSTM layer with 128-dimensional hidden state\n",
    "    # The returned output should be a single hidden state, not a batch of sequences.\n",
    "    X = LSTM(units = 128, return_sequences= False)(X)\n",
    "    # Add dropout with a probability of 0.5\n",
    "    X = Dropout(rate = 0.5 )(X)  \n",
    "    # Propagate X through a Dense layer with 2 units\n",
    "    X = Dense(units = 2)(X)\n",
    "    # Add a softmax activation\n",
    "    X = Activation('softmax')(X)\n",
    "    \n",
    "    # Create Model instance which converts sentence_indices into X.\n",
    "    model = Model(inputs=sentence_indices, outputs=X)\n",
    "    \n",
    "    ### END CODE HERE ###\n",
    "    \n",
    "    return model "
   ]
  },
  {
   "cell_type": "code",
   "execution_count": 453,
   "metadata": {},
   "outputs": [
    {
     "name": "stdout",
     "output_type": "stream",
     "text": [
      "Model: \"model_7\"\n",
      "_________________________________________________________________\n",
      " Layer (type)                Output Shape              Param #   \n",
      "=================================================================\n",
      " input_8 (InputLayer)        [(None, 55)]              0         \n",
      "                                                                 \n",
      " embedding_8 (Embedding)     (None, 55, 50)            20000050  \n",
      "                                                                 \n",
      " lstm_14 (LSTM)              (None, 55, 128)           91648     \n",
      "                                                                 \n",
      " dropout_14 (Dropout)        (None, 55, 128)           0         \n",
      "                                                                 \n",
      " lstm_15 (LSTM)              (None, 128)               131584    \n",
      "                                                                 \n",
      " dropout_15 (Dropout)        (None, 128)               0         \n",
      "                                                                 \n",
      " dense_7 (Dense)             (None, 2)                 258       \n",
      "                                                                 \n",
      " activation_7 (Activation)   (None, 2)                 0         \n",
      "                                                                 \n",
      "=================================================================\n",
      "Total params: 20,223,540\n",
      "Trainable params: 223,490\n",
      "Non-trainable params: 20,000,050\n",
      "_________________________________________________________________\n"
     ]
    }
   ],
   "source": [
    "model = SMS_SPAM_DETECT_LSTM((maxLen,), word_to_vec_map, word_to_index)\n",
    "model.summary()"
   ]
  },
  {
   "cell_type": "code",
   "execution_count": 454,
   "metadata": {},
   "outputs": [],
   "source": [
    "model.compile(loss='categorical_crossentropy', optimizer='adam', metrics=['accuracy'])"
   ]
  },
  {
   "cell_type": "code",
   "execution_count": 455,
   "metadata": {},
   "outputs": [],
   "source": [
    "X_train_np = np.array(X_train)\n",
    "X_train_indices = sentences_to_indices(X_train_np, word_to_index, maxLen)\n",
    "Y_train_np = np.array(Y_train)\n",
    "label_encoder = LabelEncoder()\n",
    "#     print('Y before encoding',Y)\n",
    "Y_train_vec = label_encoder.fit_transform(Y_train_np)\n",
    "#     print('Y after encoding', Y)\n",
    "#     print('Y_vec',Y_vec)\n",
    "Y_train_oh = to_categorical(Y_train_vec) \n",
    "# print(\"X_train_indices.shape\",X_train_indices.shape)\n",
    "# print(\"X_train_indices.shape\",X_train_indices)\n",
    "# print(\"Y_train_oh.shape\",Y_train_oh.shape)\n",
    "# print(\"Y_train_oh.shape\",Y_train_oh)\n",
    "# Y_train_oh = convert_to_one_hot(Y_train, C = 5)"
   ]
  },
  {
   "cell_type": "code",
   "execution_count": 456,
   "metadata": {},
   "outputs": [
    {
     "name": "stdout",
     "output_type": "stream",
     "text": [
      "Epoch 1/50\n",
      "3/3 [==============================] - 10s 104ms/step - loss: 0.6811 - accuracy: 0.7625\n",
      "Epoch 2/50\n",
      "3/3 [==============================] - 0s 94ms/step - loss: 0.6053 - accuracy: 0.8125\n",
      "Epoch 3/50\n",
      "3/3 [==============================] - 0s 94ms/step - loss: 0.5376 - accuracy: 0.8125\n",
      "Epoch 4/50\n",
      "3/3 [==============================] - 0s 94ms/step - loss: 0.4582 - accuracy: 0.8125\n",
      "Epoch 5/50\n",
      "3/3 [==============================] - 0s 92ms/step - loss: 0.4415 - accuracy: 0.8250\n",
      "Epoch 6/50\n",
      "3/3 [==============================] - 0s 98ms/step - loss: 0.3188 - accuracy: 0.9000\n",
      "Epoch 7/50\n",
      "3/3 [==============================] - 0s 94ms/step - loss: 0.1644 - accuracy: 0.9625\n",
      "Epoch 8/50\n",
      "3/3 [==============================] - 0s 96ms/step - loss: 0.1927 - accuracy: 0.9500\n",
      "Epoch 9/50\n",
      "3/3 [==============================] - 0s 98ms/step - loss: 0.0960 - accuracy: 0.9625\n",
      "Epoch 10/50\n",
      "3/3 [==============================] - 0s 96ms/step - loss: 0.1571 - accuracy: 0.9500\n",
      "Epoch 11/50\n",
      "3/3 [==============================] - 0s 102ms/step - loss: 0.1011 - accuracy: 0.9750\n",
      "Epoch 12/50\n",
      "3/3 [==============================] - 0s 116ms/step - loss: 0.1717 - accuracy: 0.9500\n",
      "Epoch 13/50\n",
      "3/3 [==============================] - 0s 100ms/step - loss: 0.0953 - accuracy: 0.9750\n",
      "Epoch 14/50\n",
      "3/3 [==============================] - 0s 98ms/step - loss: 0.1691 - accuracy: 0.9500\n",
      "Epoch 15/50\n",
      "3/3 [==============================] - 0s 104ms/step - loss: 0.1302 - accuracy: 0.9750\n",
      "Epoch 16/50\n",
      "3/3 [==============================] - 0s 104ms/step - loss: 0.0929 - accuracy: 0.9750\n",
      "Epoch 17/50\n",
      "3/3 [==============================] - 0s 106ms/step - loss: 0.0970 - accuracy: 0.9875\n",
      "Epoch 18/50\n",
      "3/3 [==============================] - 0s 114ms/step - loss: 0.0960 - accuracy: 0.9875\n",
      "Epoch 19/50\n",
      "3/3 [==============================] - 0s 122ms/step - loss: 0.0650 - accuracy: 0.9875\n",
      "Epoch 20/50\n",
      "3/3 [==============================] - 0s 116ms/step - loss: 0.0805 - accuracy: 0.9875\n",
      "Epoch 21/50\n",
      "3/3 [==============================] - 0s 106ms/step - loss: 0.0863 - accuracy: 0.9875\n",
      "Epoch 22/50\n",
      "3/3 [==============================] - 0s 102ms/step - loss: 0.0749 - accuracy: 0.9875\n",
      "Epoch 23/50\n",
      "3/3 [==============================] - 0s 106ms/step - loss: 0.0751 - accuracy: 0.9875\n",
      "Epoch 24/50\n",
      "3/3 [==============================] - 0s 96ms/step - loss: 0.0730 - accuracy: 0.9875\n",
      "Epoch 25/50\n",
      "3/3 [==============================] - 0s 116ms/step - loss: 0.0725 - accuracy: 0.9875\n",
      "Epoch 26/50\n",
      "3/3 [==============================] - 0s 124ms/step - loss: 0.0788 - accuracy: 0.9875\n",
      "Epoch 27/50\n",
      "3/3 [==============================] - 0s 108ms/step - loss: 0.0743 - accuracy: 0.9875\n",
      "Epoch 28/50\n",
      "3/3 [==============================] - 0s 96ms/step - loss: 0.0717 - accuracy: 0.9875\n",
      "Epoch 29/50\n",
      "3/3 [==============================] - 0s 114ms/step - loss: 0.0718 - accuracy: 0.9875\n",
      "Epoch 30/50\n",
      "3/3 [==============================] - 0s 106ms/step - loss: 0.0610 - accuracy: 0.9875\n",
      "Epoch 31/50\n",
      "3/3 [==============================] - 0s 116ms/step - loss: 0.0625 - accuracy: 0.9875\n",
      "Epoch 32/50\n",
      "3/3 [==============================] - 0s 94ms/step - loss: 0.0879 - accuracy: 0.9875\n",
      "Epoch 33/50\n",
      "3/3 [==============================] - 0s 118ms/step - loss: 0.0665 - accuracy: 0.9875\n",
      "Epoch 34/50\n",
      "3/3 [==============================] - 0s 110ms/step - loss: 0.0735 - accuracy: 0.9875\n",
      "Epoch 35/50\n",
      "3/3 [==============================] - 0s 98ms/step - loss: 0.0615 - accuracy: 0.9875\n",
      "Epoch 36/50\n",
      "3/3 [==============================] - 0s 100ms/step - loss: 0.0757 - accuracy: 0.9875\n",
      "Epoch 37/50\n",
      "3/3 [==============================] - 0s 112ms/step - loss: 0.0618 - accuracy: 0.9875\n",
      "Epoch 38/50\n",
      "3/3 [==============================] - 0s 106ms/step - loss: 0.0871 - accuracy: 0.9875\n",
      "Epoch 39/50\n",
      "3/3 [==============================] - 0s 94ms/step - loss: 0.0646 - accuracy: 0.9875\n",
      "Epoch 40/50\n",
      "3/3 [==============================] - 0s 110ms/step - loss: 0.0779 - accuracy: 0.9875\n",
      "Epoch 41/50\n",
      "3/3 [==============================] - 0s 94ms/step - loss: 0.0658 - accuracy: 0.9875\n",
      "Epoch 42/50\n",
      "3/3 [==============================] - 0s 106ms/step - loss: 0.0626 - accuracy: 0.9875\n",
      "Epoch 43/50\n",
      "3/3 [==============================] - 0s 96ms/step - loss: 0.0670 - accuracy: 0.9875\n",
      "Epoch 44/50\n",
      "3/3 [==============================] - 0s 110ms/step - loss: 0.0544 - accuracy: 0.9875\n",
      "Epoch 45/50\n",
      "3/3 [==============================] - 0s 94ms/step - loss: 0.0626 - accuracy: 0.9875\n",
      "Epoch 46/50\n",
      "3/3 [==============================] - 0s 92ms/step - loss: 0.0531 - accuracy: 0.9875\n",
      "Epoch 47/50\n",
      "3/3 [==============================] - 0s 94ms/step - loss: 0.0713 - accuracy: 0.9875\n",
      "Epoch 48/50\n",
      "3/3 [==============================] - 0s 94ms/step - loss: 0.0761 - accuracy: 0.9875\n",
      "Epoch 49/50\n",
      "3/3 [==============================] - 0s 108ms/step - loss: 0.0658 - accuracy: 0.9875\n",
      "Epoch 50/50\n",
      "3/3 [==============================] - 0s 96ms/step - loss: 0.0657 - accuracy: 0.9875\n"
     ]
    },
    {
     "data": {
      "text/plain": [
       "<keras.callbacks.History at 0x18199933d00>"
      ]
     },
     "execution_count": 456,
     "metadata": {},
     "output_type": "execute_result"
    }
   ],
   "source": [
    "model.fit(X_train_indices, Y_train_oh, epochs = 50, batch_size = 32, shuffle=True)"
   ]
  },
  {
   "cell_type": "code",
   "execution_count": 457,
   "metadata": {},
   "outputs": [
    {
     "name": "stdout",
     "output_type": "stream",
     "text": [
      "1/1 [==============================] - 2s 2s/step - loss: 0.0118 - accuracy: 1.0000\n",
      "\n",
      "Test accuracy =  1.0\n"
     ]
    }
   ],
   "source": [
    "X_test_np = np.array(X_test)\n",
    "Y_test_np = np.array(Y_test)\n",
    "X_test_indices = sentences_to_indices(X_test_np, word_to_index, max_len = maxLen)\n",
    "label_encoder = LabelEncoder()\n",
    "#     print('Y before encoding',Y)\n",
    "Y_test_vec = label_encoder.fit_transform(Y_test_np)\n",
    "#     print('Y after encoding', Y)\n",
    "#     print('Y_vec',Y_vec)\n",
    "Y_test_oh = to_categorical(Y_test_vec) \n",
    "loss, acc = model.evaluate(X_test_indices, Y_test_oh)\n",
    "print()\n",
    "print(\"Test accuracy = \", acc)"
   ]
  },
  {
   "cell_type": "code",
   "execution_count": 458,
   "metadata": {},
   "outputs": [
    {
     "data": {
      "text/plain": [
       "{0: 'ham', 1: 'spam'}"
      ]
     },
     "execution_count": 458,
     "metadata": {},
     "output_type": "execute_result"
    }
   ],
   "source": [
    "label_encoder.classes_\n",
    "# Get the classes (original labels) from the LabelEncoder\n",
    "classes_dict = {index: label for index, label in enumerate(label_encoder.classes_)}\n",
    "classes_dict"
   ]
  },
  {
   "cell_type": "code",
   "execution_count": 460,
   "metadata": {},
   "outputs": [
    {
     "name": "stdout",
     "output_type": "stream",
     "text": [
      "1/1 [==============================] - 0s 72ms/step\n",
      "Total count: 0\n"
     ]
    }
   ],
   "source": [
    "# This code allows you to see the mislabelled examples\n",
    "pred = model.predict(X_test_indices)\n",
    "count = 0\n",
    "for i in range(len(X_test_np)):\n",
    "    num = np.argmax(pred[i])\n",
    "#     if(classes_dict[num] == 'spam'):\n",
    "#         print('predict spam')\n",
    "#         # This model never predicts spam!!\n",
    "#     if(classes_dict[num] == Y_test_np[i] and classes_dict[num] == 'spam'):\n",
    "    if(classes_dict[num] != Y_test_np[i]):\n",
    "        print('Mislabeled input:', X_test_np[i])\n",
    "        count += 1\n",
    "        print('EXPECT:'+Y_test_np[i]+' PREDICT:'+classes_dict[num])\n",
    "        print()\n",
    "        # 03/06/24: I think all of the spam got mislabeled!\n",
    "print('Total count:',count)\n",
    "#         print('Expected: ')"
   ]
  },
  {
   "cell_type": "code",
   "execution_count": 465,
   "metadata": {},
   "outputs": [
    {
     "name": "stdout",
     "output_type": "stream",
     "text": [
      "1/1 [==============================] - 0s 48ms/step\n",
      "*((*(AMDDD 1800 NOW))) ham\n"
     ]
    }
   ],
   "source": [
    "# Change the sentence below to see your prediction. Make sure all the words are in the Glove embeddings.  \n",
    "x_test = np.array(['*((*(AMDDD 1800 NOW)))'])\n",
    "X_test_indices_input = sentences_to_indices(x_test, word_to_index, maxLen)\n",
    "print(x_test[0] +' '+  classes_dict[np.argmax(model.predict(X_test_indices_input))])"
   ]
  },
  {
   "cell_type": "code",
   "execution_count": null,
   "metadata": {},
   "outputs": [],
   "source": []
  }
 ],
 "metadata": {
  "kernelspec": {
   "display_name": "Python 3",
   "language": "python",
   "name": "python3"
  },
  "language_info": {
   "codemirror_mode": {
    "name": "ipython",
    "version": 3
   },
   "file_extension": ".py",
   "mimetype": "text/x-python",
   "name": "python",
   "nbconvert_exporter": "python",
   "pygments_lexer": "ipython3",
   "version": "3.8.5"
  }
 },
 "nbformat": 4,
 "nbformat_minor": 4
}
