{
 "cells": [
  {
   "cell_type": "code",
   "execution_count": 373,
   "metadata": {},
   "outputs": [],
   "source": [
    "# Start LSTM Model for Spam Detection\n",
    "# LSTMs are the industry standard model to counter vanishing/exploding gradients\n",
    "import numpy as np\n",
    "import tensorflow\n",
    "np.random.seed(0)\n",
    "from tensorflow.keras.models import Model\n",
    "from tensorflow.keras.layers import Dense, Input, Dropout, LSTM, Activation\n",
    "from tensorflow.keras.layers import Embedding\n",
    "from tensorflow.keras.preprocessing import sequence\n",
    "from tensorflow.keras.initializers import glorot_uniform\n",
    "import pandas as pd\n",
    "\n",
    "np.random.seed(1)"
   ]
  },
  {
   "cell_type": "code",
   "execution_count": 377,
   "metadata": {},
   "outputs": [],
   "source": [
    "# Utils\n",
    "# UNQ_C3 (UNIQUE CELL IDENTIFIER, DO NOT EDIT)\n",
    "# GRADED FUNCTION: sentences_to_indices\n",
    "\n",
    "def sentences_to_indices(X, word_to_index, max_len):\n",
    "    \"\"\"\n",
    "    Converts an array of sentences (strings) into an array of indices corresponding to words in the sentences.\n",
    "    The output shape should be such that it can be given to `Embedding()` (described in Figure 4). \n",
    "    \n",
    "    Arguments:\n",
    "    X -- array of sentences (strings), of shape (m,)\n",
    "    word_to_index -- a dictionary containing the each word mapped to its index\n",
    "    max_len -- maximum number of words in a sentence. You can assume every sentence in X is no longer than this. \n",
    "    \n",
    "    Returns:\n",
    "    X_indices -- array of indices corresponding to words in the sentences from X, of shape (m, max_len)\n",
    "    \"\"\"\n",
    "    \n",
    "    m = X.shape[0]                                   # number of training examples\n",
    "    \n",
    "    ### START CODE HERE ###\n",
    "    # Initialize X_indices as a numpy matrix of zeros and the correct shape (≈ 1 line)\n",
    "    X_indices = np.zeros((m,max_len))\n",
    "    \n",
    "    for i in range(m):                               # loop over training examples\n",
    "        \n",
    "        # Convert the ith training sentence to lower case and split it into words. You should get a list of words.\n",
    "        sentence_words = X[i].lower().split()\n",
    "        \n",
    "        # Initialize j to 0\n",
    "        j = 0\n",
    "        \n",
    "        # Loop over the words of sentence_words\n",
    "\n",
    "        for w in sentence_words:\n",
    "            # if w exists in the word_to_index dictionary\n",
    "            if w in word_to_index:\n",
    "                # Set the (i,j)th entry of X_indices to the index of the correct word.\n",
    "                X_indices[i, j] = word_to_index[w]\n",
    "                # Increment j to j + 1\n",
    "                j =  j+1\n",
    "            \n",
    "    ### END CODE HERE ###\n",
    "    \n",
    "    return X_indices\n",
    "\n",
    "def pretrained_embedding_layer(word_to_vec_map, word_to_index):\n",
    "    \"\"\"\n",
    "    Creates a Keras Embedding() layer and loads in pre-trained GloVe 50-dimensional vectors.\n",
    "    \n",
    "    Arguments:\n",
    "    word_to_vec_map -- dictionary mapping words to their GloVe vector representation\n",
    "    word_to_index -- dictionary mapping from words to their indices in the vocabulary \n",
    "    \n",
    "    Returns:\n",
    "    embedding_layer -- pretrained layer Keras instance\n",
    "    \"\"\"\n",
    "    \n",
    "    vocab_size = len(word_to_index) + 1\n",
    "    any_word = next(iter(word_to_vec_map.keys()))\n",
    "    emb_dim = word_to_vec_map[any_word].shape[0]\n",
    "\n",
    "     # Step 1\n",
    "    # Initialize the embedding matrix as a numpy array of zeros.\n",
    "    emb_matrix = np.zeros((vocab_size, emb_dim))\n",
    "    \n",
    "    # Step 2\n",
    "    # Set each row \"idx\" of the embedding matrix to be \n",
    "    # the word vector representation of the idx'th word of the vocabulary\n",
    "    for word, idx in word_to_index.items():\n",
    "        emb_matrix[idx, :] = word_to_vec_map[word]\n",
    "    \n",
    "    # Step 3\n",
    "    # Define Keras embedding layer with the correct input and output sizes\n",
    "    # Make it non-trainable because we are just loading in pretrained GloVe 50-dimensional vectors\n",
    "    embedding_layer = Embedding(input_dim=vocab_size , output_dim=emb_dim , trainable=False)\n",
    "    \n",
    "    # Step 4 (already done for you; please do not modify)\n",
    "    # Build the embedding layer, it is required before setting the weights of the embedding layer. \n",
    "    embedding_layer.build((None,))\n",
    "    \n",
    "    \n",
    "    # Set the weights of the embedding layer to the embedding matrix. Your layer is now pretrained.\n",
    "    embedding_layer.set_weights([emb_matrix])\n",
    "    \n",
    "    return embedding_layer"
   ]
  },
  {
   "cell_type": "code",
   "execution_count": 378,
   "metadata": {},
   "outputs": [
    {
     "name": "stdout",
     "output_type": "stream",
     "text": [
      "\u001b[92mAll tests passed!\n"
     ]
    }
   ],
   "source": [
    "### YOU CANNOT EDIT THIS CELL\n",
    "\n",
    "# UNIT TEST\n",
    "def pretrained_embedding_layer_test(target):\n",
    "    # Create a controlled word to vec map\n",
    "    word_to_vec_map = {'a': [3, 3], 'synonym_of_a': [3, 3], 'a_nw': [2, 4], 'a_s': [3, 2], 'a_n': [3, 4], \n",
    "                       'c': [-2, 1], 'c_n': [-2, 2],'c_ne': [-1, 2], 'c_e': [-1, 1], 'c_se': [-1, 0], \n",
    "                       'c_s': [-2, 0], 'c_sw': [-3, 0], 'c_w': [-3, 1], 'c_nw': [-3, 2]\n",
    "                      }\n",
    "    # Convert lists to np.arrays\n",
    "    for key in word_to_vec_map.keys():\n",
    "        word_to_vec_map[key] = np.array(word_to_vec_map[key])\n",
    "        \n",
    "    # Create a word_to_index dictionary\n",
    "    word_to_index = {}\n",
    "    for idx, val in enumerate(list(word_to_vec_map.keys())):\n",
    "        word_to_index[val] = idx;\n",
    "        \n",
    "    np.random.seed(1)\n",
    "    embedding_layer = target(word_to_vec_map, word_to_index)\n",
    "    \n",
    "    assert type(embedding_layer) == Embedding, \"Wrong type\"\n",
    "    assert embedding_layer.input_dim == len(list(word_to_vec_map.keys())) + 1, \"Wrong input shape\"\n",
    "    assert embedding_layer.output_dim == len(word_to_vec_map['a']), \"Wrong output shape\"\n",
    "    assert np.allclose(embedding_layer.get_weights(), \n",
    "                       [[[ 3, 3], [ 3, 3], [ 2, 4], [ 3, 2], [ 3, 4],\n",
    "                       [-2, 1], [-2, 2], [-1, 2], [-1, 1], [-1, 0],\n",
    "                       [-2, 0], [-3, 0], [-3, 1], [-3, 2], [ 0, 0]]]), \"Wrong vaulues\"\n",
    "    print(\"\\033[92mAll tests passed!\")\n",
    "       \n",
    "    \n",
    "pretrained_embedding_layer_test(pretrained_embedding_layer)"
   ]
  },
  {
   "cell_type": "code",
   "execution_count": 371,
   "metadata": {},
   "outputs": [
    {
     "name": "stdout",
     "output_type": "stream",
     "text": [
      "X1 = ['funny lol' 'lets play baseball' 'food is ready for you']\n",
      "X1_indices =\n",
      " [[155345. 225122.      0.      0.      0.]\n",
      " [220930. 286375.  69714.      0.      0.]\n",
      " [151204. 192973. 302254. 151349. 394475.]]\n"
     ]
    }
   ],
   "source": [
    "X1 = np.array([\"funny lol\", \"lets play baseball\", \"food is ready for you\"])\n",
    "X1_indices = sentences_to_indices(X1, word_to_index, max_len=5)\n",
    "print(\"X1 =\", X1)\n",
    "print(\"X1_indices =\\n\", X1_indices)"
   ]
  },
  {
   "cell_type": "code",
   "execution_count": 394,
   "metadata": {},
   "outputs": [
    {
     "name": "stdout",
     "output_type": "stream",
     "text": [
      "<class 'pandas.core.frame.DataFrame'>\n",
      "RangeIndex: 5572 entries, 0 to 5571\n",
      "Data columns (total 5 columns):\n",
      " #   Column      Non-Null Count  Dtype \n",
      "---  ------      --------------  ----- \n",
      " 0   v1          5572 non-null   object\n",
      " 1   v2          5572 non-null   object\n",
      " 2   Unnamed: 2  50 non-null     object\n",
      " 3   Unnamed: 3  12 non-null     object\n",
      " 4   Unnamed: 4  6 non-null      object\n",
      "dtypes: object(5)\n",
      "memory usage: 217.8+ KB\n"
     ]
    }
   ],
   "source": [
    "# Load in csv dataset\n",
    "df = pd.read_csv('data/spam.csv',delimiter=',',encoding='latin-1')\n",
    "df.head()\n",
    "df.info()"
   ]
  },
  {
   "cell_type": "code",
   "execution_count": 395,
   "metadata": {},
   "outputs": [
    {
     "name": "stdout",
     "output_type": "stream",
     "text": [
      "<class 'pandas.core.frame.DataFrame'>\n",
      "RangeIndex: 5572 entries, 0 to 5571\n",
      "Data columns (total 2 columns):\n",
      " #   Column  Non-Null Count  Dtype \n",
      "---  ------  --------------  ----- \n",
      " 0   v1      5572 non-null   object\n",
      " 1   v2      5572 non-null   object\n",
      "dtypes: object(2)\n",
      "memory usage: 87.2+ KB\n"
     ]
    }
   ],
   "source": [
    "df.drop(['Unnamed: 2', 'Unnamed: 3', 'Unnamed: 4'],axis=1,inplace=True)\n",
    "df.info()"
   ]
  },
  {
   "cell_type": "code",
   "execution_count": 449,
   "metadata": {},
   "outputs": [],
   "source": [
    "# Get input and outputs\n",
    "X = df.v2.iloc[:100]\n",
    "Y = df.v1.iloc[:100]\n",
    "X_train,X_test,Y_train,Y_test = train_test_split(X,Y,test_size=0.20)\n",
    "#,Y_train,Y_test = \n",
    "# print(len(X_train))\n",
    "# print(len(Y_train))\n",
    "# print(len(Y_test))\n",
    "# print(len(Y_test)/(len(Y_train)+len(Y_test)))"
   ]
  },
  {
   "cell_type": "code",
   "execution_count": 450,
   "metadata": {},
   "outputs": [
    {
     "data": {
      "text/plain": [
       "55"
      ]
     },
     "execution_count": 450,
     "metadata": {},
     "output_type": "execute_result"
    }
   ],
   "source": [
    "maxLen = len(max(X_train, key=lambda x: len(x.split())).split())\n",
    "maxLen"
   ]
  },
  {
   "cell_type": "code",
   "execution_count": 376,
   "metadata": {},
   "outputs": [],
   "source": [
    "word_to_index, index_to_word, word_to_vec_map = read_glove_vecs('data/glove.6B.50d.txt')"
   ]
  },
  {
   "cell_type": "code",
   "execution_count": 452,
   "metadata": {},
   "outputs": [],
   "source": [
    "def SMS_SPAM_DETECT_LSTM(input_shape, word_to_vec_map, word_to_index):\n",
    "    \"\"\"\n",
    "    Function creating the Emojify-v2 model's graph.\n",
    "    \n",
    "    Arguments:\n",
    "    input_shape -- shape of the input, usually (max_len,)\n",
    "    word_to_vec_map -- dictionary mapping every word in a vocabulary into its 50-dimensional vector representation\n",
    "    word_to_index -- dictionary mapping from words to their indices in the vocabulary (400,001 words)\n",
    "\n",
    "    Returns:\n",
    "    model -- a model instance in Keras\n",
    "    \"\"\"\n",
    "    \n",
    "    ### START CODE HERE ###\n",
    "    # Define sentence_indices as the input of the graph.\n",
    "    # It should be of shape input_shape and dtype 'int32' (as it contains indices, which are integers).\n",
    "    sentence_indices = Input(shape=(input_shape), dtype='int32')\n",
    "    \n",
    "    # Create the embedding layer pretrained with GloVe Vectors (≈1 line)\n",
    "    embedding_layer = pretrained_embedding_layer(word_to_vec_map, word_to_index)\n",
    "    \n",
    "    # Propagate sentence_indices through your embedding layer\n",
    "    # (See additional hints in the instructions).\n",
    "    embeddings = embedding_layer(sentence_indices)   \n",
    "    \n",
    "    # Propagate the embeddings through an LSTM layer with 128-dimensional hidden state\n",
    "    # The returned output should be a batch of sequences.\n",
    "    X = LSTM(units = 128, return_sequences= True)(embeddings)\n",
    "    # Add dropout with a probability of 0.5\n",
    "    X = Dropout(rate = 0.5 )(X) \n",
    "    # Propagate X trough another LSTM layer with 128-dimensional hidden state\n",
    "    # The returned output should be a single hidden state, not a batch of sequences.\n",
    "    X = LSTM(units = 128, return_sequences= False)(X)\n",
    "    # Add dropout with a probability of 0.5\n",
    "    X = Dropout(rate = 0.5 )(X)  \n",
    "    # Propagate X through a Dense layer with 2 units\n",
    "    X = Dense(units = 2)(X)\n",
    "    # Add a softmax activation\n",
    "    X = Activation('softmax')(X)\n",
    "    \n",
    "    # Create Model instance which converts sentence_indices into X.\n",
    "    model = Model(inputs=sentence_indices, outputs=X)\n",
    "    \n",
    "    ### END CODE HERE ###\n",
    "    \n",
    "    return model "
   ]
  },
  {
   "cell_type": "code",
   "execution_count": 453,
   "metadata": {},
   "outputs": [
    {
     "name": "stdout",
     "output_type": "stream",
     "text": [
      "Model: \"model_7\"\n",
      "_________________________________________________________________\n",
      " Layer (type)                Output Shape              Param #   \n",
      "=================================================================\n",
      " input_8 (InputLayer)        [(None, 55)]              0         \n",
      "                                                                 \n",
      " embedding_8 (Embedding)     (None, 55, 50)            20000050  \n",
      "                                                                 \n",
      " lstm_14 (LSTM)              (None, 55, 128)           91648     \n",
      "                                                                 \n",
      " dropout_14 (Dropout)        (None, 55, 128)           0         \n",
      "                                                                 \n",
      " lstm_15 (LSTM)              (None, 128)               131584    \n",
      "                                                                 \n",
      " dropout_15 (Dropout)        (None, 128)               0         \n",
      "                                                                 \n",
      " dense_7 (Dense)             (None, 2)                 258       \n",
      "                                                                 \n",
      " activation_7 (Activation)   (None, 2)                 0         \n",
      "                                                                 \n",
      "=================================================================\n",
      "Total params: 20,223,540\n",
      "Trainable params: 223,490\n",
      "Non-trainable params: 20,000,050\n",
      "_________________________________________________________________\n"
     ]
    }
   ],
   "source": [
    "model = SMS_SPAM_DETECT_LSTM((maxLen,), word_to_vec_map, word_to_index)\n",
    "model.summary()"
   ]
  },
  {
   "cell_type": "code",
   "execution_count": 454,
   "metadata": {},
   "outputs": [],
   "source": [
    "model.compile(loss='categorical_crossentropy', optimizer='adam', metrics=['accuracy'])"
   ]
  },
  {
   "cell_type": "code",
   "execution_count": 455,
   "metadata": {},
   "outputs": [],
   "source": [
    "X_train_np = np.array(X_train)\n",
    "X_train_indices = sentences_to_indices(X_train_np, word_to_index, maxLen)\n",
    "Y_train_np = np.array(Y_train)\n",
    "label_encoder = LabelEncoder()\n",
    "#     print('Y before encoding',Y)\n",
    "Y_train_vec = label_encoder.fit_transform(Y_train_np)\n",
    "#     print('Y after encoding', Y)\n",
    "#     print('Y_vec',Y_vec)\n",
    "Y_train_oh = to_categorical(Y_train_vec) \n",
    "# print(\"X_train_indices.shape\",X_train_indices.shape)\n",
    "# print(\"X_train_indices.shape\",X_train_indices)\n",
    "# print(\"Y_train_oh.shape\",Y_train_oh.shape)\n",
    "# print(\"Y_train_oh.shape\",Y_train_oh)\n",
    "# Y_train_oh = convert_to_one_hot(Y_train, C = 5)"
   ]
  },
  {
   "cell_type": "code",
   "execution_count": 456,
   "metadata": {},
   "outputs": [
    {
     "name": "stdout",
     "output_type": "stream",
     "text": [
      "Epoch 1/50\n",
      "3/3 [==============================] - 10s 104ms/step - loss: 0.6811 - accuracy: 0.7625\n",
      "Epoch 2/50\n",
      "3/3 [==============================] - 0s 94ms/step - loss: 0.6053 - accuracy: 0.8125\n",
      "Epoch 3/50\n",
      "3/3 [==============================] - 0s 94ms/step - loss: 0.5376 - accuracy: 0.8125\n",
      "Epoch 4/50\n",
      "3/3 [==============================] - 0s 94ms/step - loss: 0.4582 - accuracy: 0.8125\n",
      "Epoch 5/50\n",
      "3/3 [==============================] - 0s 92ms/step - loss: 0.4415 - accuracy: 0.8250\n",
      "Epoch 6/50\n",
      "3/3 [==============================] - 0s 98ms/step - loss: 0.3188 - accuracy: 0.9000\n",
      "Epoch 7/50\n",
      "3/3 [==============================] - 0s 94ms/step - loss: 0.1644 - accuracy: 0.9625\n",
      "Epoch 8/50\n",
      "3/3 [==============================] - 0s 96ms/step - loss: 0.1927 - accuracy: 0.9500\n",
      "Epoch 9/50\n",
      "3/3 [==============================] - 0s 98ms/step - loss: 0.0960 - accuracy: 0.9625\n",
      "Epoch 10/50\n",
      "3/3 [==============================] - 0s 96ms/step - loss: 0.1571 - accuracy: 0.9500\n",
      "Epoch 11/50\n",
      "3/3 [==============================] - 0s 102ms/step - loss: 0.1011 - accuracy: 0.9750\n",
      "Epoch 12/50\n",
      "3/3 [==============================] - 0s 116ms/step - loss: 0.1717 - accuracy: 0.9500\n",
      "Epoch 13/50\n",
      "3/3 [==============================] - 0s 100ms/step - loss: 0.0953 - accuracy: 0.9750\n",
      "Epoch 14/50\n",
      "3/3 [==============================] - 0s 98ms/step - loss: 0.1691 - accuracy: 0.9500\n",
      "Epoch 15/50\n",
      "3/3 [==============================] - 0s 104ms/step - loss: 0.1302 - accuracy: 0.9750\n",
      "Epoch 16/50\n",
      "3/3 [==============================] - 0s 104ms/step - loss: 0.0929 - accuracy: 0.9750\n",
      "Epoch 17/50\n",
      "3/3 [==============================] - 0s 106ms/step - loss: 0.0970 - accuracy: 0.9875\n",
      "Epoch 18/50\n",
      "3/3 [==============================] - 0s 114ms/step - loss: 0.0960 - accuracy: 0.9875\n",
      "Epoch 19/50\n",
      "3/3 [==============================] - 0s 122ms/step - loss: 0.0650 - accuracy: 0.9875\n",
      "Epoch 20/50\n",
      "3/3 [==============================] - 0s 116ms/step - loss: 0.0805 - accuracy: 0.9875\n",
      "Epoch 21/50\n",
      "3/3 [==============================] - 0s 106ms/step - loss: 0.0863 - accuracy: 0.9875\n",
      "Epoch 22/50\n",
      "3/3 [==============================] - 0s 102ms/step - loss: 0.0749 - accuracy: 0.9875\n",
      "Epoch 23/50\n",
      "3/3 [==============================] - 0s 106ms/step - loss: 0.0751 - accuracy: 0.9875\n",
      "Epoch 24/50\n",
      "3/3 [==============================] - 0s 96ms/step - loss: 0.0730 - accuracy: 0.9875\n",
      "Epoch 25/50\n",
      "3/3 [==============================] - 0s 116ms/step - loss: 0.0725 - accuracy: 0.9875\n",
      "Epoch 26/50\n",
      "3/3 [==============================] - 0s 124ms/step - loss: 0.0788 - accuracy: 0.9875\n",
      "Epoch 27/50\n",
      "3/3 [==============================] - 0s 108ms/step - loss: 0.0743 - accuracy: 0.9875\n",
      "Epoch 28/50\n",
      "3/3 [==============================] - 0s 96ms/step - loss: 0.0717 - accuracy: 0.9875\n",
      "Epoch 29/50\n",
      "3/3 [==============================] - 0s 114ms/step - loss: 0.0718 - accuracy: 0.9875\n",
      "Epoch 30/50\n",
      "3/3 [==============================] - 0s 106ms/step - loss: 0.0610 - accuracy: 0.9875\n",
      "Epoch 31/50\n",
      "3/3 [==============================] - 0s 116ms/step - loss: 0.0625 - accuracy: 0.9875\n",
      "Epoch 32/50\n",
      "3/3 [==============================] - 0s 94ms/step - loss: 0.0879 - accuracy: 0.9875\n",
      "Epoch 33/50\n",
      "3/3 [==============================] - 0s 118ms/step - loss: 0.0665 - accuracy: 0.9875\n",
      "Epoch 34/50\n",
      "3/3 [==============================] - 0s 110ms/step - loss: 0.0735 - accuracy: 0.9875\n",
      "Epoch 35/50\n",
      "3/3 [==============================] - 0s 98ms/step - loss: 0.0615 - accuracy: 0.9875\n",
      "Epoch 36/50\n",
      "3/3 [==============================] - 0s 100ms/step - loss: 0.0757 - accuracy: 0.9875\n",
      "Epoch 37/50\n",
      "3/3 [==============================] - 0s 112ms/step - loss: 0.0618 - accuracy: 0.9875\n",
      "Epoch 38/50\n",
      "3/3 [==============================] - 0s 106ms/step - loss: 0.0871 - accuracy: 0.9875\n",
      "Epoch 39/50\n",
      "3/3 [==============================] - 0s 94ms/step - loss: 0.0646 - accuracy: 0.9875\n",
      "Epoch 40/50\n",
      "3/3 [==============================] - 0s 110ms/step - loss: 0.0779 - accuracy: 0.9875\n",
      "Epoch 41/50\n",
      "3/3 [==============================] - 0s 94ms/step - loss: 0.0658 - accuracy: 0.9875\n",
      "Epoch 42/50\n",
      "3/3 [==============================] - 0s 106ms/step - loss: 0.0626 - accuracy: 0.9875\n",
      "Epoch 43/50\n",
      "3/3 [==============================] - 0s 96ms/step - loss: 0.0670 - accuracy: 0.9875\n",
      "Epoch 44/50\n",
      "3/3 [==============================] - 0s 110ms/step - loss: 0.0544 - accuracy: 0.9875\n",
      "Epoch 45/50\n",
      "3/3 [==============================] - 0s 94ms/step - loss: 0.0626 - accuracy: 0.9875\n",
      "Epoch 46/50\n",
      "3/3 [==============================] - 0s 92ms/step - loss: 0.0531 - accuracy: 0.9875\n",
      "Epoch 47/50\n",
      "3/3 [==============================] - 0s 94ms/step - loss: 0.0713 - accuracy: 0.9875\n",
      "Epoch 48/50\n",
      "3/3 [==============================] - 0s 94ms/step - loss: 0.0761 - accuracy: 0.9875\n",
      "Epoch 49/50\n",
      "3/3 [==============================] - 0s 108ms/step - loss: 0.0658 - accuracy: 0.9875\n",
      "Epoch 50/50\n",
      "3/3 [==============================] - 0s 96ms/step - loss: 0.0657 - accuracy: 0.9875\n"
     ]
    },
    {
     "data": {
      "text/plain": [
       "<keras.callbacks.History at 0x18199933d00>"
      ]
     },
     "execution_count": 456,
     "metadata": {},
     "output_type": "execute_result"
    }
   ],
   "source": [
    "model.fit(X_train_indices, Y_train_oh, epochs = 50, batch_size = 32, shuffle=True)"
   ]
  },
  {
   "cell_type": "code",
   "execution_count": 457,
   "metadata": {},
   "outputs": [
    {
     "name": "stdout",
     "output_type": "stream",
     "text": [
      "1/1 [==============================] - 2s 2s/step - loss: 0.0118 - accuracy: 1.0000\n",
      "\n",
      "Test accuracy =  1.0\n"
     ]
    }
   ],
   "source": [
    "X_test_np = np.array(X_test)\n",
    "Y_test_np = np.array(Y_test)\n",
    "X_test_indices = sentences_to_indices(X_test_np, word_to_index, max_len = maxLen)\n",
    "label_encoder = LabelEncoder()\n",
    "#     print('Y before encoding',Y)\n",
    "Y_test_vec = label_encoder.fit_transform(Y_test_np)\n",
    "#     print('Y after encoding', Y)\n",
    "#     print('Y_vec',Y_vec)\n",
    "Y_test_oh = to_categorical(Y_test_vec) \n",
    "loss, acc = model.evaluate(X_test_indices, Y_test_oh)\n",
    "print()\n",
    "print(\"Test accuracy = \", acc)"
   ]
  },
  {
   "cell_type": "code",
   "execution_count": 458,
   "metadata": {},
   "outputs": [
    {
     "data": {
      "text/plain": [
       "{0: 'ham', 1: 'spam'}"
      ]
     },
     "execution_count": 458,
     "metadata": {},
     "output_type": "execute_result"
    }
   ],
   "source": [
    "label_encoder.classes_\n",
    "# Get the classes (original labels) from the LabelEncoder\n",
    "classes_dict = {index: label for index, label in enumerate(label_encoder.classes_)}\n",
    "classes_dict"
   ]
  },
  {
   "cell_type": "code",
   "execution_count": 460,
   "metadata": {},
   "outputs": [
    {
     "name": "stdout",
     "output_type": "stream",
     "text": [
      "1/1 [==============================] - 0s 72ms/step\n",
      "Total count: 0\n"
     ]
    }
   ],
   "source": [
    "# This code allows you to see the mislabelled examples\n",
    "pred = model.predict(X_test_indices)\n",
    "count = 0\n",
    "for i in range(len(X_test_np)):\n",
    "    num = np.argmax(pred[i])\n",
    "#     if(classes_dict[num] == 'spam'):\n",
    "#         print('predict spam')\n",
    "#         # This model never predicts spam!!\n",
    "#     if(classes_dict[num] == Y_test_np[i] and classes_dict[num] == 'spam'):\n",
    "    if(classes_dict[num] != Y_test_np[i]):\n",
    "        print('Mislabeled input:', X_test_np[i])\n",
    "        count += 1\n",
    "        print('EXPECT:'+Y_test_np[i]+' PREDICT:'+classes_dict[num])\n",
    "        print()\n",
    "        # 03/06/24: I think all of the spam got mislabeled!\n",
    "print('Total count:',count)\n",
    "#         print('Expected: ')"
   ]
  },
  {
   "cell_type": "code",
   "execution_count": 465,
   "metadata": {
    "scrolled": true
   },
   "outputs": [
    {
     "name": "stdout",
     "output_type": "stream",
     "text": [
      "1/1 [==============================] - 0s 48ms/step\n",
      "*((*(AMDDD 1800 NOW))) ham\n"
     ]
    }
   ],
   "source": [
    "# Change the sentence below to see your prediction. Make sure all the words are in the Glove embeddings.  \n",
    "x_test = np.array(['*((*(AMDDD 1800 NOW)))'])\n",
    "X_test_indices_input = sentences_to_indices(x_test, word_to_index, maxLen)\n",
    "print(x_test[0] +' '+  classes_dict[np.argmax(model.predict(X_test_indices_input))])"
   ]
  },
  {
   "cell_type": "code",
   "execution_count": null,
   "metadata": {},
   "outputs": [],
   "source": []
  },
  {
   "cell_type": "code",
   "execution_count": null,
   "metadata": {},
   "outputs": [],
   "source": []
  }
 ],
 "metadata": {
  "kernelspec": {
   "display_name": "Python 3",
   "language": "python",
   "name": "python3"
  },
  "language_info": {
   "codemirror_mode": {
    "name": "ipython",
    "version": 3
   },
   "file_extension": ".py",
   "mimetype": "text/x-python",
   "name": "python",
   "nbconvert_exporter": "python",
   "pygments_lexer": "ipython3",
   "version": "3.8.5"
  }
 },
 "nbformat": 4,
 "nbformat_minor": 4
}
